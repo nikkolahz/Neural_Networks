{
 "cells": [
  {
   "cell_type": "markdown",
   "metadata": {},
   "source": [
    "## Convolutional Network\n",
    "##### Exercise 3"
   ]
  },
  {
   "cell_type": "markdown",
   "metadata": {},
   "source": [
    "### Import all needed modules"
   ]
  },
  {
   "cell_type": "code",
   "execution_count": 1,
   "metadata": {},
   "outputs": [],
   "source": [
    "import pandas as pd\n",
    "import matplotlib.pyplot as plt\n",
    "from sklearn.preprocessing import OneHotEncoder\n",
    "from sklearn.metrics import roc_auc_score, accuracy_score, confusion_matrix, classification_report, precision_recall_curve\n",
    "import seaborn as sns\n",
    "import tensorflow as tf\n",
    "import numpy as np\n",
    "import os\n",
    "sns.set()"
   ]
  },
  {
   "cell_type": "markdown",
   "metadata": {},
   "source": [
    "### Define Data source\n",
    "Utensils recognition data divided into training and test data set"
   ]
  },
  {
   "cell_type": "code",
   "execution_count": 2,
   "metadata": {},
   "outputs": [
    {
     "data": {
      "text/html": [
       "<div>\n",
       "<style scoped>\n",
       "    .dataframe tbody tr th:only-of-type {\n",
       "        vertical-align: middle;\n",
       "    }\n",
       "\n",
       "    .dataframe tbody tr th {\n",
       "        vertical-align: top;\n",
       "    }\n",
       "\n",
       "    .dataframe thead th {\n",
       "        text-align: right;\n",
       "    }\n",
       "</style>\n",
       "<table border=\"1\" class=\"dataframe\">\n",
       "  <thead>\n",
       "    <tr style=\"text-align: right;\">\n",
       "      <th></th>\n",
       "      <th>Label</th>\n",
       "      <th>Pixel0</th>\n",
       "      <th>Pixel1</th>\n",
       "      <th>Pixel2</th>\n",
       "      <th>Pixel3</th>\n",
       "      <th>Pixel4</th>\n",
       "      <th>Pixel5</th>\n",
       "      <th>Pixel6</th>\n",
       "      <th>Pixel7</th>\n",
       "      <th>Pixel8</th>\n",
       "      <th>...</th>\n",
       "      <th>Pixel774</th>\n",
       "      <th>Pixel775</th>\n",
       "      <th>Pixel776</th>\n",
       "      <th>Pixel777</th>\n",
       "      <th>Pixel778</th>\n",
       "      <th>Pixel779</th>\n",
       "      <th>Pixel780</th>\n",
       "      <th>Pixel781</th>\n",
       "      <th>Pixel782</th>\n",
       "      <th>Pixel783</th>\n",
       "    </tr>\n",
       "  </thead>\n",
       "  <tbody>\n",
       "    <tr>\n",
       "      <th>0</th>\n",
       "      <td>0</td>\n",
       "      <td>0</td>\n",
       "      <td>0</td>\n",
       "      <td>0</td>\n",
       "      <td>0</td>\n",
       "      <td>0</td>\n",
       "      <td>0</td>\n",
       "      <td>0</td>\n",
       "      <td>0</td>\n",
       "      <td>0</td>\n",
       "      <td>...</td>\n",
       "      <td>0</td>\n",
       "      <td>0</td>\n",
       "      <td>0</td>\n",
       "      <td>0</td>\n",
       "      <td>0</td>\n",
       "      <td>0</td>\n",
       "      <td>0</td>\n",
       "      <td>0</td>\n",
       "      <td>0</td>\n",
       "      <td>0</td>\n",
       "    </tr>\n",
       "    <tr>\n",
       "      <th>1</th>\n",
       "      <td>0</td>\n",
       "      <td>0</td>\n",
       "      <td>0</td>\n",
       "      <td>0</td>\n",
       "      <td>0</td>\n",
       "      <td>0</td>\n",
       "      <td>0</td>\n",
       "      <td>0</td>\n",
       "      <td>0</td>\n",
       "      <td>0</td>\n",
       "      <td>...</td>\n",
       "      <td>0</td>\n",
       "      <td>0</td>\n",
       "      <td>0</td>\n",
       "      <td>0</td>\n",
       "      <td>0</td>\n",
       "      <td>0</td>\n",
       "      <td>0</td>\n",
       "      <td>0</td>\n",
       "      <td>0</td>\n",
       "      <td>0</td>\n",
       "    </tr>\n",
       "    <tr>\n",
       "      <th>2</th>\n",
       "      <td>2</td>\n",
       "      <td>0</td>\n",
       "      <td>0</td>\n",
       "      <td>0</td>\n",
       "      <td>0</td>\n",
       "      <td>0</td>\n",
       "      <td>0</td>\n",
       "      <td>0</td>\n",
       "      <td>0</td>\n",
       "      <td>0</td>\n",
       "      <td>...</td>\n",
       "      <td>0</td>\n",
       "      <td>0</td>\n",
       "      <td>0</td>\n",
       "      <td>0</td>\n",
       "      <td>0</td>\n",
       "      <td>0</td>\n",
       "      <td>0</td>\n",
       "      <td>0</td>\n",
       "      <td>0</td>\n",
       "      <td>0</td>\n",
       "    </tr>\n",
       "    <tr>\n",
       "      <th>3</th>\n",
       "      <td>1</td>\n",
       "      <td>0</td>\n",
       "      <td>0</td>\n",
       "      <td>0</td>\n",
       "      <td>0</td>\n",
       "      <td>0</td>\n",
       "      <td>0</td>\n",
       "      <td>0</td>\n",
       "      <td>0</td>\n",
       "      <td>0</td>\n",
       "      <td>...</td>\n",
       "      <td>0</td>\n",
       "      <td>0</td>\n",
       "      <td>0</td>\n",
       "      <td>0</td>\n",
       "      <td>0</td>\n",
       "      <td>0</td>\n",
       "      <td>0</td>\n",
       "      <td>0</td>\n",
       "      <td>0</td>\n",
       "      <td>0</td>\n",
       "    </tr>\n",
       "    <tr>\n",
       "      <th>4</th>\n",
       "      <td>0</td>\n",
       "      <td>0</td>\n",
       "      <td>0</td>\n",
       "      <td>0</td>\n",
       "      <td>0</td>\n",
       "      <td>0</td>\n",
       "      <td>0</td>\n",
       "      <td>0</td>\n",
       "      <td>0</td>\n",
       "      <td>0</td>\n",
       "      <td>...</td>\n",
       "      <td>0</td>\n",
       "      <td>0</td>\n",
       "      <td>0</td>\n",
       "      <td>0</td>\n",
       "      <td>0</td>\n",
       "      <td>0</td>\n",
       "      <td>0</td>\n",
       "      <td>0</td>\n",
       "      <td>0</td>\n",
       "      <td>0</td>\n",
       "    </tr>\n",
       "    <tr>\n",
       "      <th>5</th>\n",
       "      <td>2</td>\n",
       "      <td>0</td>\n",
       "      <td>0</td>\n",
       "      <td>0</td>\n",
       "      <td>0</td>\n",
       "      <td>0</td>\n",
       "      <td>0</td>\n",
       "      <td>0</td>\n",
       "      <td>0</td>\n",
       "      <td>0</td>\n",
       "      <td>...</td>\n",
       "      <td>0</td>\n",
       "      <td>0</td>\n",
       "      <td>0</td>\n",
       "      <td>0</td>\n",
       "      <td>0</td>\n",
       "      <td>0</td>\n",
       "      <td>0</td>\n",
       "      <td>0</td>\n",
       "      <td>0</td>\n",
       "      <td>0</td>\n",
       "    </tr>\n",
       "    <tr>\n",
       "      <th>6</th>\n",
       "      <td>1</td>\n",
       "      <td>0</td>\n",
       "      <td>0</td>\n",
       "      <td>0</td>\n",
       "      <td>0</td>\n",
       "      <td>0</td>\n",
       "      <td>0</td>\n",
       "      <td>0</td>\n",
       "      <td>0</td>\n",
       "      <td>0</td>\n",
       "      <td>...</td>\n",
       "      <td>119</td>\n",
       "      <td>202</td>\n",
       "      <td>0</td>\n",
       "      <td>0</td>\n",
       "      <td>0</td>\n",
       "      <td>0</td>\n",
       "      <td>0</td>\n",
       "      <td>0</td>\n",
       "      <td>0</td>\n",
       "      <td>0</td>\n",
       "    </tr>\n",
       "    <tr>\n",
       "      <th>7</th>\n",
       "      <td>0</td>\n",
       "      <td>0</td>\n",
       "      <td>0</td>\n",
       "      <td>0</td>\n",
       "      <td>0</td>\n",
       "      <td>0</td>\n",
       "      <td>0</td>\n",
       "      <td>0</td>\n",
       "      <td>0</td>\n",
       "      <td>0</td>\n",
       "      <td>...</td>\n",
       "      <td>0</td>\n",
       "      <td>0</td>\n",
       "      <td>0</td>\n",
       "      <td>0</td>\n",
       "      <td>0</td>\n",
       "      <td>0</td>\n",
       "      <td>0</td>\n",
       "      <td>0</td>\n",
       "      <td>0</td>\n",
       "      <td>0</td>\n",
       "    </tr>\n",
       "    <tr>\n",
       "      <th>8</th>\n",
       "      <td>2</td>\n",
       "      <td>0</td>\n",
       "      <td>0</td>\n",
       "      <td>0</td>\n",
       "      <td>0</td>\n",
       "      <td>0</td>\n",
       "      <td>0</td>\n",
       "      <td>0</td>\n",
       "      <td>0</td>\n",
       "      <td>0</td>\n",
       "      <td>...</td>\n",
       "      <td>32</td>\n",
       "      <td>0</td>\n",
       "      <td>0</td>\n",
       "      <td>0</td>\n",
       "      <td>0</td>\n",
       "      <td>0</td>\n",
       "      <td>0</td>\n",
       "      <td>0</td>\n",
       "      <td>0</td>\n",
       "      <td>0</td>\n",
       "    </tr>\n",
       "    <tr>\n",
       "      <th>9</th>\n",
       "      <td>2</td>\n",
       "      <td>0</td>\n",
       "      <td>0</td>\n",
       "      <td>0</td>\n",
       "      <td>0</td>\n",
       "      <td>0</td>\n",
       "      <td>0</td>\n",
       "      <td>0</td>\n",
       "      <td>0</td>\n",
       "      <td>0</td>\n",
       "      <td>...</td>\n",
       "      <td>0</td>\n",
       "      <td>0</td>\n",
       "      <td>0</td>\n",
       "      <td>0</td>\n",
       "      <td>0</td>\n",
       "      <td>0</td>\n",
       "      <td>0</td>\n",
       "      <td>0</td>\n",
       "      <td>0</td>\n",
       "      <td>0</td>\n",
       "    </tr>\n",
       "  </tbody>\n",
       "</table>\n",
       "<p>10 rows × 785 columns</p>\n",
       "</div>"
      ],
      "text/plain": [
       "   Label  Pixel0  Pixel1  Pixel2  Pixel3  Pixel4  Pixel5  Pixel6  Pixel7  \\\n",
       "0      0       0       0       0       0       0       0       0       0   \n",
       "1      0       0       0       0       0       0       0       0       0   \n",
       "2      2       0       0       0       0       0       0       0       0   \n",
       "3      1       0       0       0       0       0       0       0       0   \n",
       "4      0       0       0       0       0       0       0       0       0   \n",
       "5      2       0       0       0       0       0       0       0       0   \n",
       "6      1       0       0       0       0       0       0       0       0   \n",
       "7      0       0       0       0       0       0       0       0       0   \n",
       "8      2       0       0       0       0       0       0       0       0   \n",
       "9      2       0       0       0       0       0       0       0       0   \n",
       "\n",
       "   Pixel8  ...  Pixel774  Pixel775  Pixel776  Pixel777  Pixel778  Pixel779  \\\n",
       "0       0  ...         0         0         0         0         0         0   \n",
       "1       0  ...         0         0         0         0         0         0   \n",
       "2       0  ...         0         0         0         0         0         0   \n",
       "3       0  ...         0         0         0         0         0         0   \n",
       "4       0  ...         0         0         0         0         0         0   \n",
       "5       0  ...         0         0         0         0         0         0   \n",
       "6       0  ...       119       202         0         0         0         0   \n",
       "7       0  ...         0         0         0         0         0         0   \n",
       "8       0  ...        32         0         0         0         0         0   \n",
       "9       0  ...         0         0         0         0         0         0   \n",
       "\n",
       "   Pixel780  Pixel781  Pixel782  Pixel783  \n",
       "0         0         0         0         0  \n",
       "1         0         0         0         0  \n",
       "2         0         0         0         0  \n",
       "3         0         0         0         0  \n",
       "4         0         0         0         0  \n",
       "5         0         0         0         0  \n",
       "6         0         0         0         0  \n",
       "7         0         0         0         0  \n",
       "8         0         0         0         0  \n",
       "9         0         0         0         0  \n",
       "\n",
       "[10 rows x 785 columns]"
      ]
     },
     "execution_count": 2,
     "metadata": {},
     "output_type": "execute_result"
    }
   ],
   "source": [
    "utensils_train = pd.read_csv('utensils/utensils_train.csv')\n",
    "utensils_train.head(10)"
   ]
  },
  {
   "cell_type": "code",
   "execution_count": 3,
   "metadata": {},
   "outputs": [
    {
     "data": {
      "text/html": [
       "<div>\n",
       "<style scoped>\n",
       "    .dataframe tbody tr th:only-of-type {\n",
       "        vertical-align: middle;\n",
       "    }\n",
       "\n",
       "    .dataframe tbody tr th {\n",
       "        vertical-align: top;\n",
       "    }\n",
       "\n",
       "    .dataframe thead th {\n",
       "        text-align: right;\n",
       "    }\n",
       "</style>\n",
       "<table border=\"1\" class=\"dataframe\">\n",
       "  <thead>\n",
       "    <tr style=\"text-align: right;\">\n",
       "      <th></th>\n",
       "      <th>Label</th>\n",
       "      <th>Pixel0</th>\n",
       "      <th>Pixel1</th>\n",
       "      <th>Pixel2</th>\n",
       "      <th>Pixel3</th>\n",
       "      <th>Pixel4</th>\n",
       "      <th>Pixel5</th>\n",
       "      <th>Pixel6</th>\n",
       "      <th>Pixel7</th>\n",
       "      <th>Pixel8</th>\n",
       "      <th>...</th>\n",
       "      <th>Pixel774</th>\n",
       "      <th>Pixel775</th>\n",
       "      <th>Pixel776</th>\n",
       "      <th>Pixel777</th>\n",
       "      <th>Pixel778</th>\n",
       "      <th>Pixel779</th>\n",
       "      <th>Pixel780</th>\n",
       "      <th>Pixel781</th>\n",
       "      <th>Pixel782</th>\n",
       "      <th>Pixel783</th>\n",
       "    </tr>\n",
       "  </thead>\n",
       "  <tbody>\n",
       "    <tr>\n",
       "      <th>0</th>\n",
       "      <td>2</td>\n",
       "      <td>0</td>\n",
       "      <td>0</td>\n",
       "      <td>0</td>\n",
       "      <td>0</td>\n",
       "      <td>0</td>\n",
       "      <td>0</td>\n",
       "      <td>0</td>\n",
       "      <td>0</td>\n",
       "      <td>0</td>\n",
       "      <td>...</td>\n",
       "      <td>0</td>\n",
       "      <td>0</td>\n",
       "      <td>0</td>\n",
       "      <td>0</td>\n",
       "      <td>0</td>\n",
       "      <td>0</td>\n",
       "      <td>0</td>\n",
       "      <td>0</td>\n",
       "      <td>0</td>\n",
       "      <td>0</td>\n",
       "    </tr>\n",
       "    <tr>\n",
       "      <th>1</th>\n",
       "      <td>1</td>\n",
       "      <td>0</td>\n",
       "      <td>0</td>\n",
       "      <td>0</td>\n",
       "      <td>0</td>\n",
       "      <td>0</td>\n",
       "      <td>0</td>\n",
       "      <td>0</td>\n",
       "      <td>0</td>\n",
       "      <td>0</td>\n",
       "      <td>...</td>\n",
       "      <td>0</td>\n",
       "      <td>0</td>\n",
       "      <td>0</td>\n",
       "      <td>0</td>\n",
       "      <td>0</td>\n",
       "      <td>0</td>\n",
       "      <td>0</td>\n",
       "      <td>0</td>\n",
       "      <td>0</td>\n",
       "      <td>0</td>\n",
       "    </tr>\n",
       "    <tr>\n",
       "      <th>2</th>\n",
       "      <td>2</td>\n",
       "      <td>0</td>\n",
       "      <td>0</td>\n",
       "      <td>0</td>\n",
       "      <td>0</td>\n",
       "      <td>0</td>\n",
       "      <td>0</td>\n",
       "      <td>0</td>\n",
       "      <td>0</td>\n",
       "      <td>0</td>\n",
       "      <td>...</td>\n",
       "      <td>0</td>\n",
       "      <td>0</td>\n",
       "      <td>0</td>\n",
       "      <td>0</td>\n",
       "      <td>0</td>\n",
       "      <td>0</td>\n",
       "      <td>0</td>\n",
       "      <td>0</td>\n",
       "      <td>0</td>\n",
       "      <td>0</td>\n",
       "    </tr>\n",
       "    <tr>\n",
       "      <th>3</th>\n",
       "      <td>0</td>\n",
       "      <td>0</td>\n",
       "      <td>0</td>\n",
       "      <td>0</td>\n",
       "      <td>0</td>\n",
       "      <td>0</td>\n",
       "      <td>0</td>\n",
       "      <td>0</td>\n",
       "      <td>0</td>\n",
       "      <td>0</td>\n",
       "      <td>...</td>\n",
       "      <td>55</td>\n",
       "      <td>92</td>\n",
       "      <td>237</td>\n",
       "      <td>0</td>\n",
       "      <td>0</td>\n",
       "      <td>0</td>\n",
       "      <td>0</td>\n",
       "      <td>0</td>\n",
       "      <td>0</td>\n",
       "      <td>0</td>\n",
       "    </tr>\n",
       "    <tr>\n",
       "      <th>4</th>\n",
       "      <td>1</td>\n",
       "      <td>0</td>\n",
       "      <td>0</td>\n",
       "      <td>0</td>\n",
       "      <td>0</td>\n",
       "      <td>0</td>\n",
       "      <td>0</td>\n",
       "      <td>0</td>\n",
       "      <td>0</td>\n",
       "      <td>0</td>\n",
       "      <td>...</td>\n",
       "      <td>0</td>\n",
       "      <td>0</td>\n",
       "      <td>0</td>\n",
       "      <td>0</td>\n",
       "      <td>0</td>\n",
       "      <td>0</td>\n",
       "      <td>0</td>\n",
       "      <td>0</td>\n",
       "      <td>0</td>\n",
       "      <td>0</td>\n",
       "    </tr>\n",
       "    <tr>\n",
       "      <th>5</th>\n",
       "      <td>2</td>\n",
       "      <td>0</td>\n",
       "      <td>0</td>\n",
       "      <td>0</td>\n",
       "      <td>0</td>\n",
       "      <td>0</td>\n",
       "      <td>0</td>\n",
       "      <td>0</td>\n",
       "      <td>0</td>\n",
       "      <td>0</td>\n",
       "      <td>...</td>\n",
       "      <td>0</td>\n",
       "      <td>0</td>\n",
       "      <td>0</td>\n",
       "      <td>0</td>\n",
       "      <td>0</td>\n",
       "      <td>0</td>\n",
       "      <td>0</td>\n",
       "      <td>0</td>\n",
       "      <td>0</td>\n",
       "      <td>0</td>\n",
       "    </tr>\n",
       "    <tr>\n",
       "      <th>6</th>\n",
       "      <td>1</td>\n",
       "      <td>0</td>\n",
       "      <td>0</td>\n",
       "      <td>0</td>\n",
       "      <td>0</td>\n",
       "      <td>0</td>\n",
       "      <td>0</td>\n",
       "      <td>0</td>\n",
       "      <td>0</td>\n",
       "      <td>0</td>\n",
       "      <td>...</td>\n",
       "      <td>0</td>\n",
       "      <td>0</td>\n",
       "      <td>0</td>\n",
       "      <td>0</td>\n",
       "      <td>0</td>\n",
       "      <td>0</td>\n",
       "      <td>0</td>\n",
       "      <td>0</td>\n",
       "      <td>0</td>\n",
       "      <td>0</td>\n",
       "    </tr>\n",
       "    <tr>\n",
       "      <th>7</th>\n",
       "      <td>2</td>\n",
       "      <td>0</td>\n",
       "      <td>0</td>\n",
       "      <td>0</td>\n",
       "      <td>0</td>\n",
       "      <td>0</td>\n",
       "      <td>0</td>\n",
       "      <td>0</td>\n",
       "      <td>0</td>\n",
       "      <td>0</td>\n",
       "      <td>...</td>\n",
       "      <td>0</td>\n",
       "      <td>0</td>\n",
       "      <td>0</td>\n",
       "      <td>0</td>\n",
       "      <td>0</td>\n",
       "      <td>0</td>\n",
       "      <td>0</td>\n",
       "      <td>0</td>\n",
       "      <td>0</td>\n",
       "      <td>0</td>\n",
       "    </tr>\n",
       "    <tr>\n",
       "      <th>8</th>\n",
       "      <td>2</td>\n",
       "      <td>0</td>\n",
       "      <td>0</td>\n",
       "      <td>0</td>\n",
       "      <td>0</td>\n",
       "      <td>0</td>\n",
       "      <td>0</td>\n",
       "      <td>0</td>\n",
       "      <td>0</td>\n",
       "      <td>0</td>\n",
       "      <td>...</td>\n",
       "      <td>0</td>\n",
       "      <td>0</td>\n",
       "      <td>0</td>\n",
       "      <td>0</td>\n",
       "      <td>0</td>\n",
       "      <td>0</td>\n",
       "      <td>0</td>\n",
       "      <td>0</td>\n",
       "      <td>0</td>\n",
       "      <td>0</td>\n",
       "    </tr>\n",
       "    <tr>\n",
       "      <th>9</th>\n",
       "      <td>0</td>\n",
       "      <td>0</td>\n",
       "      <td>0</td>\n",
       "      <td>0</td>\n",
       "      <td>0</td>\n",
       "      <td>0</td>\n",
       "      <td>0</td>\n",
       "      <td>0</td>\n",
       "      <td>0</td>\n",
       "      <td>0</td>\n",
       "      <td>...</td>\n",
       "      <td>2</td>\n",
       "      <td>205</td>\n",
       "      <td>211</td>\n",
       "      <td>0</td>\n",
       "      <td>0</td>\n",
       "      <td>0</td>\n",
       "      <td>0</td>\n",
       "      <td>0</td>\n",
       "      <td>0</td>\n",
       "      <td>0</td>\n",
       "    </tr>\n",
       "  </tbody>\n",
       "</table>\n",
       "<p>10 rows × 785 columns</p>\n",
       "</div>"
      ],
      "text/plain": [
       "   Label  Pixel0  Pixel1  Pixel2  Pixel3  Pixel4  Pixel5  Pixel6  Pixel7  \\\n",
       "0      2       0       0       0       0       0       0       0       0   \n",
       "1      1       0       0       0       0       0       0       0       0   \n",
       "2      2       0       0       0       0       0       0       0       0   \n",
       "3      0       0       0       0       0       0       0       0       0   \n",
       "4      1       0       0       0       0       0       0       0       0   \n",
       "5      2       0       0       0       0       0       0       0       0   \n",
       "6      1       0       0       0       0       0       0       0       0   \n",
       "7      2       0       0       0       0       0       0       0       0   \n",
       "8      2       0       0       0       0       0       0       0       0   \n",
       "9      0       0       0       0       0       0       0       0       0   \n",
       "\n",
       "   Pixel8  ...  Pixel774  Pixel775  Pixel776  Pixel777  Pixel778  Pixel779  \\\n",
       "0       0  ...         0         0         0         0         0         0   \n",
       "1       0  ...         0         0         0         0         0         0   \n",
       "2       0  ...         0         0         0         0         0         0   \n",
       "3       0  ...        55        92       237         0         0         0   \n",
       "4       0  ...         0         0         0         0         0         0   \n",
       "5       0  ...         0         0         0         0         0         0   \n",
       "6       0  ...         0         0         0         0         0         0   \n",
       "7       0  ...         0         0         0         0         0         0   \n",
       "8       0  ...         0         0         0         0         0         0   \n",
       "9       0  ...         2       205       211         0         0         0   \n",
       "\n",
       "   Pixel780  Pixel781  Pixel782  Pixel783  \n",
       "0         0         0         0         0  \n",
       "1         0         0         0         0  \n",
       "2         0         0         0         0  \n",
       "3         0         0         0         0  \n",
       "4         0         0         0         0  \n",
       "5         0         0         0         0  \n",
       "6         0         0         0         0  \n",
       "7         0         0         0         0  \n",
       "8         0         0         0         0  \n",
       "9         0         0         0         0  \n",
       "\n",
       "[10 rows x 785 columns]"
      ]
     },
     "execution_count": 3,
     "metadata": {},
     "output_type": "execute_result"
    }
   ],
   "source": [
    "utensils_test = pd.read_csv('utensils dataset/utensils_test.csv')\n",
    "utensils_test.head(10)"
   ]
  },
  {
   "cell_type": "markdown",
   "metadata": {},
   "source": [
    "### Convert the Labels into one-hot encoding "
   ]
  },
  {
   "cell_type": "code",
   "execution_count": 4,
   "metadata": {},
   "outputs": [
    {
     "name": "stdout",
     "output_type": "stream",
     "text": [
      "Train data: \n",
      " ------------------\n",
      "  Raw: \n",
      " [0 0 2 1 0] \n",
      " Encoded: \n",
      " [[1. 0. 0.]\n",
      " [1. 0. 0.]\n",
      " [0. 0. 1.]\n",
      " [0. 1. 0.]\n",
      " [1. 0. 0.]]\n",
      "Test data: \n",
      " ------------------\n",
      "  Raw: \n",
      " [2 1 2 0 1] \n",
      " Encoded: \n",
      " [[0. 0. 1.]\n",
      " [0. 1. 0.]\n",
      " [0. 0. 1.]\n",
      " [1. 0. 0.]\n",
      " [0. 1. 0.]]\n"
     ]
    }
   ],
   "source": [
    "y_encoder = OneHotEncoder(sparse=False)\n",
    "\n",
    "#from Training data:\n",
    "y_train_raw = utensils_train['Label'].values\n",
    "y_train = y_encoder.fit_transform(y_train_raw.reshape(-1,1))\n",
    "\n",
    "#for Test data\n",
    "y_test_raw = utensils_test['Label'].values\n",
    "y_test = y_encoder.fit_transform(y_test_raw.reshape(-1,1))\n",
    "\n",
    "print(\"Train data: \\n\",\"------------------\\n\",\" Raw: \\n\" ,y_train_raw[:5],\"\\n Encoded: \\n\",y_train[:5])\n",
    "print(\"Test data: \\n\",\"------------------\\n\",\" Raw: \\n\" ,y_test_raw[:5],\"\\n Encoded: \\n\",y_test[:5])"
   ]
  },
  {
   "cell_type": "code",
   "execution_count": 5,
   "metadata": {},
   "outputs": [
    {
     "data": {
      "image/png": "[encoded data removed]",
      "text/plain": [
       "<Figure size 432x288 with 1 Axes>"
      ]
     },
     "metadata": {},
     "output_type": "display_data"
    },
    {
     "name": "stdout",
     "output_type": "stream",
     "text": [
      "Lable: 0\n"
     ]
    },
    {
     "data": {
      "image/png": "[encoded data removed]",
      "text/plain": [
       "<Figure size 432x288 with 1 Axes>"
      ]
     },
     "metadata": {},
     "output_type": "display_data"
    },
    {
     "name": "stdout",
     "output_type": "stream",
     "text": [
      "Lable: 0\n"
     ]
    },
    {
     "data": {
      "image/png": "[encoded data removed]",
      "text/plain": [
       "<Figure size 432x288 with 1 Axes>"
      ]
     },
     "metadata": {},
     "output_type": "display_data"
    },
    {
     "name": "stdout",
     "output_type": "stream",
     "text": [
      "Lable: 2\n"
     ]
    }
   ],
   "source": [
    "#Training data\n",
    "X_train = utensils_train.drop('Label', axis=1).values\n",
    "X_train = X_train.reshape(-1,28,28,1)\n",
    "\n",
    "#Verify training data\n",
    "for i in range(3):\n",
    "    plt.imshow(X_train[i].reshape(28,28))\n",
    "    plt.show()\n",
    "    print('Lable:',y_train_raw[i])\n"
   ]
  },
  {
   "cell_type": "markdown",
   "metadata": {},
   "source": [
    "### Remove the labels to build the input features"
   ]
  },
  {
   "cell_type": "code",
   "execution_count": 6,
   "metadata": {},
   "outputs": [
    {
     "data": {
      "image/png": "[encoded data removed]",
      "text/plain": [
       "<Figure size 432x288 with 1 Axes>"
      ]
     },
     "metadata": {},
     "output_type": "display_data"
    },
    {
     "name": "stdout",
     "output_type": "stream",
     "text": [
      "Lable: 2\n"
     ]
    },
    {
     "data": {
      "image/png": "[encoded data removed]",
      "text/plain": [
       "<Figure size 432x288 with 1 Axes>"
      ]
     },
     "metadata": {},
     "output_type": "display_data"
    },
    {
     "name": "stdout",
     "output_type": "stream",
     "text": [
      "Lable: 1\n"
     ]
    },
    {
     "data": {
      "image/png": "[encoded data removed]",
      "text/plain": [
       "<Figure size 432x288 with 1 Axes>"
      ]
     },
     "metadata": {},
     "output_type": "display_data"
    },
    {
     "name": "stdout",
     "output_type": "stream",
     "text": [
      "Lable: 2\n"
     ]
    }
   ],
   "source": [
    "#test data\n",
    "X_test = utensils_test.drop('Label', axis=1).values\n",
    "X_test = X_test.reshape(-1,28,28,1)\n",
    "\n",
    "#Verify test data\n",
    "for i in range(3):\n",
    "    plt.imshow(X_test[i].reshape(28,28))\n",
    "    plt.show()\n",
    "    print('Lable:',y_test_raw[i])\n"
   ]
  },
  {
   "cell_type": "markdown",
   "metadata": {},
   "source": [
    "### Creating a Keras model\n",
    "From exercise conditions:\n",
    "1. Filter size N = 4 ( at least one)\n",
    "2. Pooling should be Average Pooling\n",
    "3. Should have at least 2 Dense layers"
   ]
  },
  {
   "cell_type": "code",
   "execution_count": 7,
   "metadata": {},
   "outputs": [
    {
     "name": "stdout",
     "output_type": "stream",
     "text": [
      "Model: \"model\"\n",
      "_________________________________________________________________\n",
      "Layer (type)                 Output Shape              Param #   \n",
      "=================================================================\n",
      "input_1 (InputLayer)         [(None, 28, 28, 1)]       0         \n",
      "_________________________________________________________________\n",
      "conv2d (Conv2D)              (None, 25, 25, 50)        850       \n",
      "_________________________________________________________________\n",
      "conv2d_1 (Conv2D)            (None, 22, 22, 50)        40050     \n",
      "_________________________________________________________________\n",
      "batch_normalization (BatchNo (None, 22, 22, 50)        200       \n",
      "_________________________________________________________________\n",
      "re_lu (ReLU)                 (None, 22, 22, 50)        0         \n",
      "_________________________________________________________________\n",
      "average_pooling2d (AveragePo (None, 11, 11, 50)        0         \n",
      "_________________________________________________________________\n",
      "conv2d_2 (Conv2D)            (None, 9, 9, 70)          31570     \n",
      "_________________________________________________________________\n",
      "conv2d_3 (Conv2D)            (None, 7, 7, 70)          44170     \n",
      "_________________________________________________________________\n",
      "batch_normalization_1 (Batch (None, 7, 7, 70)          280       \n",
      "_________________________________________________________________\n",
      "re_lu_1 (ReLU)               (None, 7, 7, 70)          0         \n",
      "_________________________________________________________________\n",
      "average_pooling2d_1 (Average (None, 3, 3, 70)          0         \n",
      "_________________________________________________________________\n",
      "flatten (Flatten)            (None, 630)               0         \n",
      "_________________________________________________________________\n",
      "dense (Dense)                (None, 630)               397530    \n",
      "_________________________________________________________________\n",
      "dropout (Dropout)            (None, 630)               0         \n",
      "_________________________________________________________________\n",
      "re_lu_2 (ReLU)               (None, 630)               0         \n",
      "_________________________________________________________________\n",
      "dense_1 (Dense)              (None, 100)               63100     \n",
      "_________________________________________________________________\n",
      "dropout_1 (Dropout)          (None, 100)               0         \n",
      "_________________________________________________________________\n",
      "re_lu_3 (ReLU)               (None, 100)               0         \n",
      "_________________________________________________________________\n",
      "dense_2 (Dense)              (None, 3)                 303       \n",
      "=================================================================\n",
      "Total params: 578,053\n",
      "Trainable params: 577,813\n",
      "Non-trainable params: 240\n",
      "_________________________________________________________________\n"
     ]
    }
   ],
   "source": [
    "rate = 0.35\n",
    "reg = tf.keras.regularizers.l2(l2=0.01)\n",
    "init = tf.keras.initializers.GlorotUniform()\n",
    "\n",
    "input_ = tf.keras.Input((28,28,1))\n",
    "conv1 = tf.keras.layers.Conv2D(50, (4,4), activation='relu', kernel_regularizer=reg)(input_)\n",
    "conv2 = tf.keras.layers.Conv2D(50, (4,4))(conv1)\n",
    "bn1 = tf.keras.layers.BatchNormalization()(conv2)\n",
    "relu01 = tf.keras.layers.ReLU()(bn1)\n",
    "mp1 = tf.keras.layers.AveragePooling2D((2,2))(relu01)\n",
    "\n",
    "conv3 = tf.keras.layers.Conv2D(70, (3,3), activation='relu', kernel_regularizer=reg)(mp1)\n",
    "conv4 = tf.keras.layers.Conv2D(70, (3,3))(conv3)\n",
    "bn2 = tf.keras.layers.BatchNormalization()(conv4)\n",
    "relu02 = tf.keras.layers.ReLU()(bn2)\n",
    "mp2 = tf.keras.layers.AveragePooling2D((2,2))(relu02)\n",
    "\n",
    "fl = tf.keras.layers.Flatten()(mp2)\n",
    "dense1 =tf.keras.layers.Dense(630)(fl)\n",
    "drop1 = tf.keras.layers.Dropout(rate)(dense1)\n",
    "relu1 = tf.keras.layers.ReLU()(drop1)\n",
    "\n",
    "dense2 =tf.keras.layers.Dense(100)(relu1)\n",
    "drop2 = tf.keras.layers.Dropout(rate)(dense2)\n",
    "relu2 =  tf.keras.layers.ReLU()(drop2)\n",
    "\n",
    "output=tf.keras.layers.Dense(3, activation='softmax', kernel_regularizer=reg)(relu2)\n",
    "model = tf.keras.Model(inputs=input_,outputs=output)\n",
    "model.summary()"
   ]
  },
  {
   "cell_type": "code",
   "execution_count": 8,
   "metadata": {},
   "outputs": [],
   "source": [
    "opt = tf.keras.optimizers.Adam(learning_rate=0.00085)\n",
    "metrics = [tf.keras.metrics.CategoricalAccuracy()]\n",
    "model.compile(loss='categorical_crossentropy', optimizer=opt, metrics=metrics )"
   ]
  },
  {
   "cell_type": "code",
   "execution_count": 9,
   "metadata": {
    "scrolled": true
   },
   "outputs": [
    {
     "data": {
      "image/png": "[encoded data removed]",
      "text/plain": [
       "<IPython.core.display.Image object>"
      ]
     },
     "execution_count": 9,
     "metadata": {},
     "output_type": "execute_result"
    }
   ],
   "source": [
    "tf.keras.utils.plot_model(model)"
   ]
  },
  {
   "cell_type": "markdown",
   "metadata": {},
   "source": [
    "### Defining the callbacks"
   ]
  },
  {
   "cell_type": "code",
   "execution_count": 10,
   "metadata": {},
   "outputs": [],
   "source": [
    "#define early stop callbacks based on loss metric\n",
    "early_stop = tf.keras.callbacks.EarlyStopping(patience=20, restore_best_weights=True)\n",
    "#define Model checkpoint Callback\n",
    "MODEL_PATH = 'CNN-ex3/checkpoints/model_at_{epoch:02d}.ckpt'\n",
    "BEST_PATH = 'CNN-ex3/checkpoints/best/best_model.ckpt'\n",
    "os.makedirs(os.path.dirname(MODEL_PATH), exist_ok=True)\n",
    "os.makedirs(os.path.dirname(BEST_PATH), exist_ok=True)\n",
    "model_checkpoint =tf.keras.callbacks.ModelCheckpoint(MODEL_PATH)\n",
    "best_checkpoint =tf.keras.callbacks.ModelCheckpoint(BEST_PATH, save_best_only=True) "
   ]
  },
  {
   "cell_type": "markdown",
   "metadata": {},
   "source": [
    "### Training the model"
   ]
  },
  {
   "cell_type": "code",
   "execution_count": 11,
   "metadata": {
    "scrolled": false
   },
   "outputs": [
    {
     "name": "stdout",
     "output_type": "stream",
     "text": [
      "Epoch 1/100\n",
      "12/12 [==============================] - 2s 107ms/step - loss: 2.0258 - categorical_accuracy: 0.3599 - val_loss: 2.1673 - val_categorical_accuracy: 0.3250\n",
      "INFO:tensorflow:Assets written to: CNN-ex3/checkpoints\\model_at_01.ckpt\\assets\n",
      "INFO:tensorflow:Assets written to: CNN-ex3/checkpoints/best\\best_model.ckpt\\assets\n",
      "Epoch 2/100\n",
      "12/12 [==============================] - 1s 79ms/step - loss: 1.7429 - categorical_accuracy: 0.4541 - val_loss: 1.7997 - val_categorical_accuracy: 0.3625\n",
      "INFO:tensorflow:Assets written to: CNN-ex3/checkpoints\\model_at_02.ckpt\\assets\n",
      "INFO:tensorflow:Assets written to: CNN-ex3/checkpoints/best\\best_model.ckpt\\assets\n",
      "Epoch 3/100\n",
      "12/12 [==============================] - 1s 80ms/step - loss: 1.5792 - categorical_accuracy: 0.5033 - val_loss: 1.6588 - val_categorical_accuracy: 0.4938\n",
      "INFO:tensorflow:Assets written to: CNN-ex3/checkpoints\\model_at_03.ckpt\\assets\n",
      "INFO:tensorflow:Assets written to: CNN-ex3/checkpoints/best\\best_model.ckpt\\assets\n",
      "Epoch 4/100\n",
      "12/12 [==============================] - 1s 82ms/step - loss: 1.5238 - categorical_accuracy: 0.5096 - val_loss: 1.4974 - val_categorical_accuracy: 0.5375\n",
      "INFO:tensorflow:Assets written to: CNN-ex3/checkpoints\\model_at_04.ckpt\\assets\n",
      "INFO:tensorflow:Assets written to: CNN-ex3/checkpoints/best\\best_model.ckpt\\assets\n",
      "Epoch 5/100\n",
      "12/12 [==============================] - 1s 81ms/step - loss: 1.4638 - categorical_accuracy: 0.5365 - val_loss: 1.4306 - val_categorical_accuracy: 0.5750\n",
      "INFO:tensorflow:Assets written to: CNN-ex3/checkpoints\\model_at_05.ckpt\\assets\n",
      "INFO:tensorflow:Assets written to: CNN-ex3/checkpoints/best\\best_model.ckpt\\assets\n",
      "Epoch 6/100\n",
      "12/12 [==============================] - 1s 80ms/step - loss: 1.3257 - categorical_accuracy: 0.6138 - val_loss: 1.2776 - val_categorical_accuracy: 0.6375\n",
      "INFO:tensorflow:Assets written to: CNN-ex3/checkpoints\\model_at_06.ckpt\\assets\n",
      "INFO:tensorflow:Assets written to: CNN-ex3/checkpoints/best\\best_model.ckpt\\assets\n",
      "Epoch 7/100\n",
      "12/12 [==============================] - 1s 80ms/step - loss: 1.2784 - categorical_accuracy: 0.5822 - val_loss: 1.4106 - val_categorical_accuracy: 0.6062\n",
      "INFO:tensorflow:Assets written to: CNN-ex3/checkpoints\\model_at_07.ckpt\\assets\n",
      "Epoch 8/100\n",
      "12/12 [==============================] - 1s 80ms/step - loss: 1.1476 - categorical_accuracy: 0.6644 - val_loss: 1.2331 - val_categorical_accuracy: 0.6187\n",
      "INFO:tensorflow:Assets written to: CNN-ex3/checkpoints\\model_at_08.ckpt\\assets\n",
      "INFO:tensorflow:Assets written to: CNN-ex3/checkpoints/best\\best_model.ckpt\\assets\n",
      "Epoch 9/100\n",
      "12/12 [==============================] - 1s 81ms/step - loss: 1.1482 - categorical_accuracy: 0.6464 - val_loss: 1.1692 - val_categorical_accuracy: 0.6187\n",
      "INFO:tensorflow:Assets written to: CNN-ex3/checkpoints\\model_at_09.ckpt\\assets\n",
      "INFO:tensorflow:Assets written to: CNN-ex3/checkpoints/best\\best_model.ckpt\\assets\n",
      "Epoch 10/100\n",
      "12/12 [==============================] - 1s 80ms/step - loss: 1.0269 - categorical_accuracy: 0.6987 - val_loss: 1.1330 - val_categorical_accuracy: 0.6375\n",
      "INFO:tensorflow:Assets written to: CNN-ex3/checkpoints\\model_at_10.ckpt\\assets\n",
      "INFO:tensorflow:Assets written to: CNN-ex3/checkpoints/best\\best_model.ckpt\\assets\n",
      "Epoch 11/100\n",
      "12/12 [==============================] - 1s 81ms/step - loss: 0.9802 - categorical_accuracy: 0.6842 - val_loss: 1.0774 - val_categorical_accuracy: 0.6687\n",
      "INFO:tensorflow:Assets written to: CNN-ex3/checkpoints\\model_at_11.ckpt\\assets\n",
      "INFO:tensorflow:Assets written to: CNN-ex3/checkpoints/best\\best_model.ckpt\\assets\n",
      "Epoch 12/100\n",
      "12/12 [==============================] - 1s 81ms/step - loss: 0.9793 - categorical_accuracy: 0.7131 - val_loss: 1.0649 - val_categorical_accuracy: 0.6562\n",
      "INFO:tensorflow:Assets written to: CNN-ex3/checkpoints\\model_at_12.ckpt\\assets\n",
      "INFO:tensorflow:Assets written to: CNN-ex3/checkpoints/best\\best_model.ckpt\\assets\n",
      "Epoch 13/100\n",
      "12/12 [==============================] - 1s 80ms/step - loss: 0.9597 - categorical_accuracy: 0.7154 - val_loss: 1.0250 - val_categorical_accuracy: 0.6625\n",
      "INFO:tensorflow:Assets written to: CNN-ex3/checkpoints\\model_at_13.ckpt\\assets\n",
      "INFO:tensorflow:Assets written to: CNN-ex3/checkpoints/best\\best_model.ckpt\\assets\n",
      "Epoch 14/100\n",
      "12/12 [==============================] - 1s 89ms/step - loss: 0.8254 - categorical_accuracy: 0.7682 - val_loss: 1.0024 - val_categorical_accuracy: 0.6750\n",
      "INFO:tensorflow:Assets written to: CNN-ex3/checkpoints\\model_at_14.ckpt\\assets\n",
      "INFO:tensorflow:Assets written to: CNN-ex3/checkpoints/best\\best_model.ckpt\\assets\n",
      "Epoch 15/100\n",
      "12/12 [==============================] - 1s 80ms/step - loss: 0.7514 - categorical_accuracy: 0.7912 - val_loss: 0.9958 - val_categorical_accuracy: 0.6562\n",
      "INFO:tensorflow:Assets written to: CNN-ex3/checkpoints\\model_at_15.ckpt\\assets\n",
      "INFO:tensorflow:Assets written to: CNN-ex3/checkpoints/best\\best_model.ckpt\\assets\n",
      "Epoch 16/100\n",
      "12/12 [==============================] - 1s 80ms/step - loss: 0.7421 - categorical_accuracy: 0.8032 - val_loss: 1.0028 - val_categorical_accuracy: 0.7000\n",
      "INFO:tensorflow:Assets written to: CNN-ex3/checkpoints\\model_at_16.ckpt\\assets\n",
      "Epoch 17/100\n",
      "12/12 [==============================] - 1s 81ms/step - loss: 0.5830 - categorical_accuracy: 0.8781 - val_loss: 0.9511 - val_categorical_accuracy: 0.6625\n",
      "INFO:tensorflow:Assets written to: CNN-ex3/checkpoints\\model_at_17.ckpt\\assets\n",
      "INFO:tensorflow:Assets written to: CNN-ex3/checkpoints/best\\best_model.ckpt\\assets\n",
      "Epoch 18/100\n",
      "12/12 [==============================] - 1s 82ms/step - loss: 0.5723 - categorical_accuracy: 0.8790 - val_loss: 0.9927 - val_categorical_accuracy: 0.6875\n",
      "INFO:tensorflow:Assets written to: CNN-ex3/checkpoints\\model_at_18.ckpt\\assets\n",
      "Epoch 19/100\n",
      "12/12 [==============================] - 1s 82ms/step - loss: 0.4792 - categorical_accuracy: 0.9151 - val_loss: 1.0280 - val_categorical_accuracy: 0.6687\n",
      "INFO:tensorflow:Assets written to: CNN-ex3/checkpoints\\model_at_19.ckpt\\assets\n",
      "Epoch 20/100\n",
      "12/12 [==============================] - 1s 81ms/step - loss: 0.4787 - categorical_accuracy: 0.9125 - val_loss: 1.0224 - val_categorical_accuracy: 0.6812\n",
      "INFO:tensorflow:Assets written to: CNN-ex3/checkpoints\\model_at_20.ckpt\\assets\n",
      "Epoch 21/100\n",
      "12/12 [==============================] - 1s 84ms/step - loss: 0.5156 - categorical_accuracy: 0.8938 - val_loss: 1.0656 - val_categorical_accuracy: 0.6562\n",
      "INFO:tensorflow:Assets written to: CNN-ex3/checkpoints\\model_at_21.ckpt\\assets\n",
      "Epoch 22/100\n",
      "12/12 [==============================] - 1s 80ms/step - loss: 0.4206 - categorical_accuracy: 0.9423 - val_loss: 1.0347 - val_categorical_accuracy: 0.6875\n",
      "INFO:tensorflow:Assets written to: CNN-ex3/checkpoints\\model_at_22.ckpt\\assets\n",
      "Epoch 23/100\n",
      "12/12 [==============================] - 1s 81ms/step - loss: 0.4271 - categorical_accuracy: 0.9183 - val_loss: 1.3106 - val_categorical_accuracy: 0.6250\n",
      "INFO:tensorflow:Assets written to: CNN-ex3/checkpoints\\model_at_23.ckpt\\assets\n",
      "Epoch 24/100\n",
      "12/12 [==============================] - 1s 84ms/step - loss: 0.5019 - categorical_accuracy: 0.9016 - val_loss: 1.1415 - val_categorical_accuracy: 0.6438\n",
      "INFO:tensorflow:Assets written to: CNN-ex3/checkpoints\\model_at_24.ckpt\\assets\n",
      "Epoch 25/100\n",
      "12/12 [==============================] - 1s 84ms/step - loss: 0.4523 - categorical_accuracy: 0.9007 - val_loss: 1.0694 - val_categorical_accuracy: 0.6687\n",
      "INFO:tensorflow:Assets written to: CNN-ex3/checkpoints\\model_at_25.ckpt\\assets\n",
      "Epoch 26/100\n",
      "12/12 [==============================] - 1s 83ms/step - loss: 0.3345 - categorical_accuracy: 0.9583 - val_loss: 1.0478 - val_categorical_accuracy: 0.7000\n",
      "INFO:tensorflow:Assets written to: CNN-ex3/checkpoints\\model_at_26.ckpt\\assets\n",
      "Epoch 27/100\n",
      "12/12 [==============================] - 1s 92ms/step - loss: 0.3041 - categorical_accuracy: 0.9701 - val_loss: 1.0899 - val_categorical_accuracy: 0.6750\n",
      "INFO:tensorflow:Assets written to: CNN-ex3/checkpoints\\model_at_27.ckpt\\assets\n",
      "Epoch 28/100\n",
      "12/12 [==============================] - 1s 81ms/step - loss: 0.2782 - categorical_accuracy: 0.9835 - val_loss: 1.4044 - val_categorical_accuracy: 0.6687\n",
      "INFO:tensorflow:Assets written to: CNN-ex3/checkpoints\\model_at_28.ckpt\\assets\n",
      "Epoch 29/100\n"
     ]
    },
    {
     "name": "stdout",
     "output_type": "stream",
     "text": [
      "12/12 [==============================] - 1s 86ms/step - loss: 0.2808 - categorical_accuracy: 0.9794 - val_loss: 1.4002 - val_categorical_accuracy: 0.6187\n",
      "INFO:tensorflow:Assets written to: CNN-ex3/checkpoints\\model_at_29.ckpt\\assets\n",
      "Epoch 30/100\n",
      "12/12 [==============================] - 1s 83ms/step - loss: 0.3399 - categorical_accuracy: 0.9556 - val_loss: 1.3246 - val_categorical_accuracy: 0.7000\n",
      "INFO:tensorflow:Assets written to: CNN-ex3/checkpoints\\model_at_30.ckpt\\assets\n",
      "Epoch 31/100\n",
      "12/12 [==============================] - 1s 83ms/step - loss: 0.2645 - categorical_accuracy: 0.9722 - val_loss: 1.3386 - val_categorical_accuracy: 0.6562\n",
      "INFO:tensorflow:Assets written to: CNN-ex3/checkpoints\\model_at_31.ckpt\\assets\n",
      "Epoch 32/100\n",
      "12/12 [==============================] - 1s 84ms/step - loss: 0.2791 - categorical_accuracy: 0.9696 - val_loss: 1.5678 - val_categorical_accuracy: 0.6750\n",
      "INFO:tensorflow:Assets written to: CNN-ex3/checkpoints\\model_at_32.ckpt\\assets\n",
      "Epoch 33/100\n",
      "12/12 [==============================] - 1s 81ms/step - loss: 0.2970 - categorical_accuracy: 0.9672 - val_loss: 1.5917 - val_categorical_accuracy: 0.6500\n",
      "INFO:tensorflow:Assets written to: CNN-ex3/checkpoints\\model_at_33.ckpt\\assets\n",
      "Epoch 34/100\n",
      "12/12 [==============================] - 1s 84ms/step - loss: 0.2707 - categorical_accuracy: 0.9754 - val_loss: 1.2484 - val_categorical_accuracy: 0.6875\n",
      "INFO:tensorflow:Assets written to: CNN-ex3/checkpoints\\model_at_34.ckpt\\assets\n",
      "Epoch 35/100\n",
      "12/12 [==============================] - 1s 84ms/step - loss: 0.2442 - categorical_accuracy: 0.9854 - val_loss: 1.3613 - val_categorical_accuracy: 0.6625\n",
      "INFO:tensorflow:Assets written to: CNN-ex3/checkpoints\\model_at_35.ckpt\\assets\n",
      "Epoch 36/100\n",
      "12/12 [==============================] - 1s 81ms/step - loss: 0.2301 - categorical_accuracy: 0.9789 - val_loss: 1.3211 - val_categorical_accuracy: 0.6750\n",
      "INFO:tensorflow:Assets written to: CNN-ex3/checkpoints\\model_at_36.ckpt\\assets\n",
      "Epoch 37/100\n",
      "12/12 [==============================] - 1s 81ms/step - loss: 0.2084 - categorical_accuracy: 0.9958 - val_loss: 1.5459 - val_categorical_accuracy: 0.6625\n",
      "INFO:tensorflow:Assets written to: CNN-ex3/checkpoints\\model_at_37.ckpt\\assets\n"
     ]
    }
   ],
   "source": [
    "history = model.fit(X_train, y_train, batch_size = 40, epochs =100, validation_split=0.25, callbacks=[early_stop,model_checkpoint,best_checkpoint])"
   ]
  },
  {
   "cell_type": "markdown",
   "metadata": {},
   "source": [
    "### Model results metrics"
   ]
  },
  {
   "cell_type": "code",
   "execution_count": 118,
   "metadata": {},
   "outputs": [
    {
     "name": "stdout",
     "output_type": "stream",
     "text": [
      "WARNING:tensorflow:5 out of the last 13 calls to <function Model.make_predict_function.<locals>.predict_function at 0x000001660E3CAE18> triggered tf.function retracing. Tracing is expensive and the excessive number of tracings could be due to (1) creating @tf.function repeatedly in a loop, (2) passing tensors with different shapes, (3) passing Python objects instead of tensors. For (1), please define your @tf.function outside of the loop. For (2), @tf.function has experimental_relax_shapes=True option that relaxes argument shapes that can avoid unnecessary retracing. For (3), please refer to https://www.tensorflow.org/guide/function#controlling_retracing and https://www.tensorflow.org/api_docs/python/tf/function for  more details.\n"
     ]
    }
   ],
   "source": [
    "#Best model is chosen based on visualizing the results from checkpoints which has relatively higher accuracy result\n",
    "#Chosen Model is the the one generated from the 36th epoch\n",
    "best_model = tf.keras.models.load_model('CNN-ex3/checkpoints/model_at_36.ckpt')\n",
    "y_pred = best_model.predict(X_test)"
   ]
  },
  {
   "cell_type": "markdown",
   "metadata": {},
   "source": [
    "#### Trying to visualize some results"
   ]
  },
  {
   "cell_type": "code",
   "execution_count": 119,
   "metadata": {},
   "outputs": [
    {
     "data": {
      "image/png": "[encoded data removed]",
      "text/plain": [
       "<Figure size 432x288 with 1 Axes>"
      ]
     },
     "metadata": {},
     "output_type": "display_data"
    },
    {
     "name": "stdout",
     "output_type": "stream",
     "text": [
      "Prediction: [1.2463322e-04 7.5917540e-04 9.9911624e-01]\n",
      "True value: 2\n",
      "Predicted label: 2\n"
     ]
    },
    {
     "data": {
      "image/png": "[encoded data removed]",
      "text/plain": [
       "<Figure size 432x288 with 1 Axes>"
      ]
     },
     "metadata": {},
     "output_type": "display_data"
    },
    {
     "name": "stdout",
     "output_type": "stream",
     "text": [
      "Prediction: [0.00850475 0.74309117 0.24840418]\n",
      "True value: 1\n",
      "Predicted label: 1\n"
     ]
    },
    {
     "data": {
      "image/png": "[encoded data removed]",
      "text/plain": [
       "<Figure size 432x288 with 1 Axes>"
      ]
     },
     "metadata": {},
     "output_type": "display_data"
    },
    {
     "name": "stdout",
     "output_type": "stream",
     "text": [
      "Prediction: [0.02143024 0.01522451 0.9633452 ]\n",
      "True value: 2\n",
      "Predicted label: 2\n"
     ]
    }
   ],
   "source": [
    "for i in range(3):\n",
    "    plt.imshow(X_test[i].reshape(28,28))\n",
    "    plt.show()\n",
    "    print('Prediction:',y_pred[i])\n",
    "    print('True value:',y_test_raw[i])\n",
    "    print('Predicted label:',np.argmax(y_pred[i]))"
   ]
  },
  {
   "cell_type": "markdown",
   "metadata": {},
   "source": [
    "### Confusion Matrix"
   ]
  },
  {
   "cell_type": "code",
   "execution_count": 120,
   "metadata": {
    "scrolled": true
   },
   "outputs": [
    {
     "data": {
      "text/plain": [
       "array([[18,  0,  5],\n",
       "       [ 1, 12,  8],\n",
       "       [ 2,  6, 19]], dtype=int64)"
      ]
     },
     "execution_count": 120,
     "metadata": {},
     "output_type": "execute_result"
    }
   ],
   "source": [
    "from sklearn.metrics import confusion_matrix\n",
    "\n",
    "#decoded the hot-encoded prediction results to match the form of the raw labels\n",
    "y_pred_raw =np.argmax(y_pred, axis=1)\n",
    "\n",
    "cm = confusion_matrix(y_test_raw,y_pred_raw)\n",
    "cm"
   ]
  },
  {
   "cell_type": "markdown",
   "metadata": {},
   "source": [
    "### Heatmap"
   ]
  },
  {
   "cell_type": "code",
   "execution_count": 131,
   "metadata": {},
   "outputs": [
    {
     "data": {
      "image/png": "[encoded data removed]",
      "text/plain": [
       "<Figure size 720x360 with 2 Axes>"
      ]
     },
     "metadata": {},
     "output_type": "display_data"
    }
   ],
   "source": [
    "fig, ax = plt.subplots(figsize=(10,5))\n",
    "ax = sns.heatmap(cm,annot=True)\n",
    "plt.title('Heatmap from confusion matrix')\n",
    "plt.ylabel(\"Test\")\n",
    "plt.xlabel(\"Prediction\")\n",
    "plt.show()"
   ]
  },
  {
   "cell_type": "markdown",
   "metadata": {},
   "source": [
    "### Classification Report"
   ]
  },
  {
   "cell_type": "code",
   "execution_count": 122,
   "metadata": {},
   "outputs": [
    {
     "name": "stdout",
     "output_type": "stream",
     "text": [
      "              precision    recall  f1-score   support\n",
      "\n",
      "           0       0.86      0.78      0.82        23\n",
      "           1       0.67      0.57      0.62        21\n",
      "           2       0.59      0.70      0.64        27\n",
      "\n",
      "    accuracy                           0.69        71\n",
      "   macro avg       0.71      0.69      0.69        71\n",
      "weighted avg       0.70      0.69      0.69        71\n",
      "\n"
     ]
    }
   ],
   "source": [
    "print(classification_report(y_test_raw,y_pred_raw))"
   ]
  },
  {
   "cell_type": "markdown",
   "metadata": {},
   "source": [
    "The reported metrics for each category complies to the requirement of >33%"
   ]
  },
  {
   "cell_type": "markdown",
   "metadata": {},
   "source": [
    "### Training Accuracy Chart"
   ]
  },
  {
   "cell_type": "code",
   "execution_count": 123,
   "metadata": {},
   "outputs": [
    {
     "data": {
      "image/png": "[encoded data removed]",
      "text/plain": [
       "<Figure size 1440x360 with 1 Axes>"
      ]
     },
     "metadata": {},
     "output_type": "display_data"
    }
   ],
   "source": [
    "plt.figure(figsize=(20,5))\n",
    "plt.plot(history.history[('categorical_accuracy')])\n",
    "plt.plot(history.history[('val_categorical_accuracy')])\n",
    "plt.legend(['training', 'validation'])\n",
    "plt.xlabel(\"epochs\")\n",
    "plt.ylabel(\"loss\")\n",
    "plt.title(\"Training and validation Accuracy\")\n",
    "plt.show()"
   ]
  },
  {
   "cell_type": "markdown",
   "metadata": {},
   "source": [
    "### Training Loss Chart"
   ]
  },
  {
   "cell_type": "code",
   "execution_count": 124,
   "metadata": {},
   "outputs": [
    {
     "data": {
      "image/png": "[encoded data removed]",
      "text/plain": [
       "<Figure size 1440x360 with 1 Axes>"
      ]
     },
     "metadata": {},
     "output_type": "display_data"
    }
   ],
   "source": [
    "plt.figure(figsize=(20,5))\n",
    "plt.plot(history.history[('loss')])\n",
    "plt.plot(history.history[('val_loss')])\n",
    "plt.legend(['training', 'validation'])\n",
    "plt.xlabel(\"epochs\")\n",
    "plt.ylabel(\"loss\")\n",
    "plt.title(\"Training and validation losses\")\n",
    "plt.show()"
   ]
  }
 ],
 "metadata": {
  "kernelspec": {
   "display_name": "CPE215",
   "language": "python",
   "name": "cpe215"
  },
  "language_info": {
   "codemirror_mode": {
    "name": "ipython",
    "version": 3
   },
   "file_extension": ".py",
   "mimetype": "text/x-python",
   "name": "python",
   "nbconvert_exporter": "python",
   "pygments_lexer": "ipython3",
   "version": "3.6.5"
  }
 },
 "nbformat": 4,
 "nbformat_minor": 4
}
