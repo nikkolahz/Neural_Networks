{
 "cells": [
  {
   "cell_type": "markdown",
   "metadata": {},
   "source": [
    "## Exercise 2"
   ]
  },
  {
   "cell_type": "markdown",
   "metadata": {},
   "source": [
    "### Import needed modules"
   ]
  },
  {
   "cell_type": "code",
   "execution_count": 1,
   "metadata": {},
   "outputs": [],
   "source": [
    "import numpy as np\n",
    "import tensorflow as tf\n",
    "import random\n",
    "from sklearn.model_selection import train_test_split\n",
    "from matplotlib import pyplot as plt\n",
    "import seaborn as sns\n",
    "import os\n",
    "\n",
    "sns.set()"
   ]
  },
  {
   "cell_type": "markdown",
   "metadata": {},
   "source": [
    "### Define the non-linear toy problem\n",
    "Toy problem:\n",
    "14X^2 + 5Y^2 +19Z^2 - 5"
   ]
  },
  {
   "cell_type": "code",
   "execution_count": 2,
   "metadata": {},
   "outputs": [],
   "source": [
    "def function(x,y,z):\n",
    "    return 14*x**2 + 5*y**2 + 19*z**2 -5"
   ]
  },
  {
   "cell_type": "markdown",
   "metadata": {},
   "source": [
    "### Generate random values and use the toy problem"
   ]
  },
  {
   "cell_type": "code",
   "execution_count": 3,
   "metadata": {
    "scrolled": true
   },
   "outputs": [
    {
     "data": {
      "text/plain": [
       "array([[0.76334256, 0.10168314, 0.43969561],\n",
       "       [0.96387321, 0.04580806, 0.90638313],\n",
       "       [0.71759358, 0.45586979, 0.69927015],\n",
       "       [0.34822355, 0.71684377, 0.84565076],\n",
       "       [0.09339152, 0.08341695, 0.7372372 ],\n",
       "       [0.12189905, 0.3035795 , 0.05032143],\n",
       "       [0.55059799, 0.47406392, 0.16967947],\n",
       "       [0.87597412, 0.97961952, 0.49194998],\n",
       "       [0.42447914, 0.36388671, 0.01780682],\n",
       "       [0.79122188, 0.96583441, 0.78139434]])"
      ]
     },
     "execution_count": 3,
     "metadata": {},
     "output_type": "execute_result"
    }
   ],
   "source": [
    "X = np.random.rand(1000,3)\n",
    "y = function(X[:,0],X[:,1],X[:,2])\n",
    "X[0:10,:]"
   ]
  },
  {
   "cell_type": "markdown",
   "metadata": {},
   "source": [
    "### Verify y Values"
   ]
  },
  {
   "cell_type": "code",
   "execution_count": 4,
   "metadata": {
    "scrolled": false
   },
   "outputs": [
    {
     "data": {
      "text/plain": [
       "array([ 6.88269579, 23.62629106, 12.53884992, 12.85433877,  5.4837548 ,\n",
       "       -4.28305348,  0.9149284 , 15.13918216, -1.80935217, 20.02959439])"
      ]
     },
     "execution_count": 4,
     "metadata": {},
     "output_type": "execute_result"
    }
   ],
   "source": [
    "y[0:10]"
   ]
  },
  {
   "cell_type": "markdown",
   "metadata": {},
   "source": [
    "### Split data for training, test and validation"
   ]
  },
  {
   "cell_type": "code",
   "execution_count": 5,
   "metadata": {},
   "outputs": [],
   "source": [
    "train_X, test_X, train_y, test_y = train_test_split(X,y, test_size=0.2, random_state=0)"
   ]
  },
  {
   "cell_type": "markdown",
   "metadata": {},
   "source": [
    "### Define the connection of the nodes in the network"
   ]
  },
  {
   "cell_type": "code",
   "execution_count": 6,
   "metadata": {},
   "outputs": [],
   "source": [
    "#Define the input with 3 features x,y,z\n",
    "input_ = tf.keras.layers.Input(shape=(3,))\n",
    "#Create dense layers:\n",
    "dense1 = tf.keras.layers.Dense(70, activation='relu')(input_)\n",
    "dense2 = tf.keras.layers.Dense(70, activation = 'relu')(dense1)\n",
    "output_ = tf.keras.layers.Dense(1)(dense2)"
   ]
  },
  {
   "cell_type": "markdown",
   "metadata": {},
   "source": [
    "### Define a model from the input node to the last node"
   ]
  },
  {
   "cell_type": "code",
   "execution_count": 7,
   "metadata": {},
   "outputs": [],
   "source": [
    "model = tf.keras.Model(inputs=input_, outputs=output_)"
   ]
  },
  {
   "cell_type": "markdown",
   "metadata": {},
   "source": [
    "### Verify the structure of the model"
   ]
  },
  {
   "cell_type": "code",
   "execution_count": 8,
   "metadata": {
    "scrolled": true
   },
   "outputs": [
    {
     "name": "stdout",
     "output_type": "stream",
     "text": [
      "Model: \"model\"\n",
      "_________________________________________________________________\n",
      "Layer (type)                 Output Shape              Param #   \n",
      "=================================================================\n",
      "input_1 (InputLayer)         [(None, 3)]               0         \n",
      "_________________________________________________________________\n",
      "dense (Dense)                (None, 70)                280       \n",
      "_________________________________________________________________\n",
      "dense_1 (Dense)              (None, 70)                4970      \n",
      "_________________________________________________________________\n",
      "dense_2 (Dense)              (None, 1)                 71        \n",
      "=================================================================\n",
      "Total params: 5,321\n",
      "Trainable params: 5,321\n",
      "Non-trainable params: 0\n",
      "_________________________________________________________________\n"
     ]
    }
   ],
   "source": [
    "model.summary()"
   ]
  },
  {
   "cell_type": "code",
   "execution_count": 9,
   "metadata": {},
   "outputs": [
    {
     "data": {
      "image/png": "[encoded data removed]",
      "text/plain": [
       "<IPython.core.display.Image object>"
      ]
     },
     "execution_count": 9,
     "metadata": {},
     "output_type": "execute_result"
    }
   ],
   "source": [
    "tf.keras.utils.plot_model(model)"
   ]
  },
  {
   "cell_type": "markdown",
   "metadata": {},
   "source": [
    "### Initialize Callbacks"
   ]
  },
  {
   "cell_type": "code",
   "execution_count": 10,
   "metadata": {},
   "outputs": [],
   "source": [
    "#define early stop callbacks based on loss metric\n",
    "early_stop = tf.keras.callbacks.EarlyStopping(patience=25, restore_best_weights=True)\n",
    "\n",
    "#define Model checkpoint Callback\n",
    "MODEL_PATH = 'checkpoints/model_at_{epoch:02d}.mdl'\n",
    "os.makedirs(os.path.dirname(MODEL_PATH), exist_ok=True)\n",
    "model_checkpoint =tf.keras.callbacks.ModelCheckpoint(MODEL_PATH)"
   ]
  },
  {
   "cell_type": "markdown",
   "metadata": {},
   "source": [
    "### Compile the model by providing the optimization algorithm and the loss function"
   ]
  },
  {
   "cell_type": "code",
   "execution_count": 11,
   "metadata": {},
   "outputs": [],
   "source": [
    "opt = tf.keras.optimizers.Adam(learning_rate=0.004)\n",
    "#Add Mean absolute error as metric\n",
    "model.compile(loss='mse', optimizer=opt, metrics=[tf.keras.metrics.MeanAbsoluteError()] )"
   ]
  },
  {
   "cell_type": "markdown",
   "metadata": {},
   "source": [
    "### Verify split data"
   ]
  },
  {
   "cell_type": "code",
   "execution_count": 12,
   "metadata": {},
   "outputs": [
    {
     "name": "stdout",
     "output_type": "stream",
     "text": [
      "train_X: (800, 3)\n",
      "test_: (200, 3)\n",
      "train_y: (800,)\n",
      "test_y: (200,)\n"
     ]
    }
   ],
   "source": [
    "print(f'train_X: {train_X.shape}')\n",
    "print(f'test_: {test_X.shape}')\n",
    "print(f'train_y: {train_y.shape}')\n",
    "print(f'test_y: {test_y.shape}')"
   ]
  },
  {
   "cell_type": "markdown",
   "metadata": {},
   "source": [
    "### Define the training arguments in the model"
   ]
  },
  {
   "cell_type": "code",
   "execution_count": 13,
   "metadata": {
    "scrolled": true
   },
   "outputs": [
    {
     "name": "stdout",
     "output_type": "stream",
     "text": [
      "Epoch 1/200\n",
      "70/70 [==============================] - 1s 6ms/step - loss: 70.9629 - mean_absolute_error: 6.4281 - val_loss: 18.3128 - val_mean_absolute_error: 3.6442\n",
      "INFO:tensorflow:Assets written to: checkpoints\\model_at_01.mdl\\assets\n",
      "Epoch 2/200\n",
      "70/70 [==============================] - 0s 2ms/step - loss: 11.0290 - mean_absolute_error: 2.6954 - val_loss: 1.8315 - val_mean_absolute_error: 1.1245\n",
      "INFO:tensorflow:Assets written to: checkpoints\\model_at_02.mdl\\assets\n",
      "Epoch 3/200\n",
      "70/70 [==============================] - 0s 1ms/step - loss: 1.8872 - mean_absolute_error: 1.1117 - val_loss: 0.7414 - val_mean_absolute_error: 0.6682\n",
      "INFO:tensorflow:Assets written to: checkpoints\\model_at_03.mdl\\assets\n",
      "Epoch 4/200\n",
      "70/70 [==============================] - 0s 1ms/step - loss: 0.8128 - mean_absolute_error: 0.7064 - val_loss: 0.4310 - val_mean_absolute_error: 0.5281\n",
      "INFO:tensorflow:Assets written to: checkpoints\\model_at_04.mdl\\assets\n",
      "Epoch 5/200\n",
      "70/70 [==============================] - 0s 1ms/step - loss: 0.5352 - mean_absolute_error: 0.5802 - val_loss: 0.2036 - val_mean_absolute_error: 0.3360\n",
      "INFO:tensorflow:Assets written to: checkpoints\\model_at_05.mdl\\assets\n",
      "Epoch 6/200\n",
      "70/70 [==============================] - 0s 1ms/step - loss: 0.2901 - mean_absolute_error: 0.4034 - val_loss: 0.2526 - val_mean_absolute_error: 0.3882\n",
      "INFO:tensorflow:Assets written to: checkpoints\\model_at_06.mdl\\assets\n",
      "Epoch 7/200\n",
      "70/70 [==============================] - 0s 1ms/step - loss: 0.2477 - mean_absolute_error: 0.3773 - val_loss: 0.1504 - val_mean_absolute_error: 0.3120\n",
      "INFO:tensorflow:Assets written to: checkpoints\\model_at_07.mdl\\assets\n",
      "Epoch 8/200\n",
      "70/70 [==============================] - 0s 1ms/step - loss: 0.1320 - mean_absolute_error: 0.2763 - val_loss: 0.1025 - val_mean_absolute_error: 0.2520\n",
      "INFO:tensorflow:Assets written to: checkpoints\\model_at_08.mdl\\assets\n",
      "Epoch 9/200\n",
      "70/70 [==============================] - 0s 1ms/step - loss: 0.1004 - mean_absolute_error: 0.2471 - val_loss: 0.1330 - val_mean_absolute_error: 0.3036\n",
      "INFO:tensorflow:Assets written to: checkpoints\\model_at_09.mdl\\assets\n",
      "Epoch 10/200\n",
      "70/70 [==============================] - 0s 1ms/step - loss: 0.0846 - mean_absolute_error: 0.2210 - val_loss: 0.0608 - val_mean_absolute_error: 0.1909\n",
      "INFO:tensorflow:Assets written to: checkpoints\\model_at_10.mdl\\assets\n",
      "Epoch 11/200\n",
      "70/70 [==============================] - 0s 1ms/step - loss: 0.0689 - mean_absolute_error: 0.1996 - val_loss: 0.0696 - val_mean_absolute_error: 0.2163\n",
      "INFO:tensorflow:Assets written to: checkpoints\\model_at_11.mdl\\assets\n",
      "Epoch 12/200\n",
      "70/70 [==============================] - 0s 1ms/step - loss: 0.0697 - mean_absolute_error: 0.2050 - val_loss: 0.0522 - val_mean_absolute_error: 0.1801\n",
      "INFO:tensorflow:Assets written to: checkpoints\\model_at_12.mdl\\assets\n",
      "Epoch 13/200\n",
      "70/70 [==============================] - 0s 1ms/step - loss: 0.0468 - mean_absolute_error: 0.1700 - val_loss: 0.0532 - val_mean_absolute_error: 0.1874\n",
      "INFO:tensorflow:Assets written to: checkpoints\\model_at_13.mdl\\assets\n",
      "Epoch 14/200\n",
      "70/70 [==============================] - 0s 1ms/step - loss: 0.0407 - mean_absolute_error: 0.1610 - val_loss: 0.0388 - val_mean_absolute_error: 0.1632\n",
      "INFO:tensorflow:Assets written to: checkpoints\\model_at_14.mdl\\assets\n",
      "Epoch 15/200\n",
      "70/70 [==============================] - 0s 1ms/step - loss: 0.0358 - mean_absolute_error: 0.1450 - val_loss: 0.0393 - val_mean_absolute_error: 0.1528\n",
      "INFO:tensorflow:Assets written to: checkpoints\\model_at_15.mdl\\assets\n",
      "Epoch 16/200\n",
      "70/70 [==============================] - 0s 1ms/step - loss: 0.0511 - mean_absolute_error: 0.1791 - val_loss: 0.0608 - val_mean_absolute_error: 0.1766\n",
      "INFO:tensorflow:Assets written to: checkpoints\\model_at_16.mdl\\assets\n",
      "Epoch 17/200\n",
      "70/70 [==============================] - 0s 1ms/step - loss: 0.0376 - mean_absolute_error: 0.1541 - val_loss: 0.0340 - val_mean_absolute_error: 0.1435\n",
      "INFO:tensorflow:Assets written to: checkpoints\\model_at_17.mdl\\assets\n",
      "Epoch 18/200\n",
      "70/70 [==============================] - 0s 2ms/step - loss: 0.0271 - mean_absolute_error: 0.1291 - val_loss: 0.0617 - val_mean_absolute_error: 0.1916\n",
      "INFO:tensorflow:Assets written to: checkpoints\\model_at_18.mdl\\assets\n",
      "Epoch 19/200\n",
      "70/70 [==============================] - 0s 2ms/step - loss: 0.0416 - mean_absolute_error: 0.1600 - val_loss: 0.0337 - val_mean_absolute_error: 0.1356\n",
      "INFO:tensorflow:Assets written to: checkpoints\\model_at_19.mdl\\assets\n",
      "Epoch 20/200\n",
      "70/70 [==============================] - 0s 1ms/step - loss: 0.0287 - mean_absolute_error: 0.1348 - val_loss: 0.0285 - val_mean_absolute_error: 0.1267\n",
      "INFO:tensorflow:Assets written to: checkpoints\\model_at_20.mdl\\assets\n",
      "Epoch 21/200\n",
      "70/70 [==============================] - 0s 1ms/step - loss: 0.0227 - mean_absolute_error: 0.1184 - val_loss: 0.0276 - val_mean_absolute_error: 0.1307\n",
      "INFO:tensorflow:Assets written to: checkpoints\\model_at_21.mdl\\assets\n",
      "Epoch 22/200\n",
      "70/70 [==============================] - 0s 1ms/step - loss: 0.0200 - mean_absolute_error: 0.1116 - val_loss: 0.0317 - val_mean_absolute_error: 0.1295\n",
      "INFO:tensorflow:Assets written to: checkpoints\\model_at_22.mdl\\assets\n",
      "Epoch 23/200\n",
      "70/70 [==============================] - 0s 4ms/step - loss: 0.0592 - mean_absolute_error: 0.1812 - val_loss: 0.0506 - val_mean_absolute_error: 0.1769\n",
      "INFO:tensorflow:Assets written to: checkpoints\\model_at_23.mdl\\assets\n",
      "Epoch 24/200\n",
      "70/70 [==============================] - 0s 2ms/step - loss: 0.0451 - mean_absolute_error: 0.1669 - val_loss: 0.0296 - val_mean_absolute_error: 0.1306\n",
      "INFO:tensorflow:Assets written to: checkpoints\\model_at_24.mdl\\assets\n",
      "Epoch 25/200\n",
      "70/70 [==============================] - 0s 1ms/step - loss: 0.0668 - mean_absolute_error: 0.1992 - val_loss: 0.0277 - val_mean_absolute_error: 0.1370\n",
      "INFO:tensorflow:Assets written to: checkpoints\\model_at_25.mdl\\assets\n",
      "Epoch 26/200\n",
      "70/70 [==============================] - 0s 2ms/step - loss: 0.0300 - mean_absolute_error: 0.1384 - val_loss: 0.0468 - val_mean_absolute_error: 0.1849\n",
      "INFO:tensorflow:Assets written to: checkpoints\\model_at_26.mdl\\assets\n",
      "Epoch 27/200\n",
      "70/70 [==============================] - 0s 2ms/step - loss: 0.0292 - mean_absolute_error: 0.1341 - val_loss: 0.0316 - val_mean_absolute_error: 0.1315\n",
      "INFO:tensorflow:Assets written to: checkpoints\\model_at_27.mdl\\assets\n",
      "Epoch 28/200\n",
      "70/70 [==============================] - 0s 1ms/step - loss: 0.0162 - mean_absolute_error: 0.0985 - val_loss: 0.0255 - val_mean_absolute_error: 0.1271\n",
      "INFO:tensorflow:Assets written to: checkpoints\\model_at_28.mdl\\assets\n",
      "Epoch 29/200\n",
      "70/70 [==============================] - 0s 1ms/step - loss: 0.0169 - mean_absolute_error: 0.0991 - val_loss: 0.0558 - val_mean_absolute_error: 0.1863\n",
      "INFO:tensorflow:Assets written to: checkpoints\\model_at_29.mdl\\assets\n",
      "Epoch 30/200\n",
      "70/70 [==============================] - 0s 1ms/step - loss: 0.0335 - mean_absolute_error: 0.1396 - val_loss: 0.0255 - val_mean_absolute_error: 0.1266\n",
      "INFO:tensorflow:Assets written to: checkpoints\\model_at_30.mdl\\assets\n",
      "Epoch 31/200\n",
      "70/70 [==============================] - 0s 2ms/step - loss: 0.0253 - mean_absolute_error: 0.1240 - val_loss: 0.0181 - val_mean_absolute_error: 0.1051\n",
      "INFO:tensorflow:Assets written to: checkpoints\\model_at_31.mdl\\assets\n",
      "Epoch 32/200\n",
      "70/70 [==============================] - 0s 1ms/step - loss: 0.0326 - mean_absolute_error: 0.1408 - val_loss: 0.0246 - val_mean_absolute_error: 0.1222\n",
      "INFO:tensorflow:Assets written to: checkpoints\\model_at_32.mdl\\assets\n",
      "Epoch 33/200\n",
      "70/70 [==============================] - 0s 1ms/step - loss: 0.0209 - mean_absolute_error: 0.1142 - val_loss: 0.0252 - val_mean_absolute_error: 0.1255\n",
      "INFO:tensorflow:Assets written to: checkpoints\\model_at_33.mdl\\assets\n",
      "Epoch 34/200\n",
      "70/70 [==============================] - 0s 1ms/step - loss: 0.0326 - mean_absolute_error: 0.1411 - val_loss: 0.0208 - val_mean_absolute_error: 0.1086\n",
      "INFO:tensorflow:Assets written to: checkpoints\\model_at_34.mdl\\assets\n",
      "Epoch 35/200\n",
      "70/70 [==============================] - 0s 1ms/step - loss: 0.0140 - mean_absolute_error: 0.0944 - val_loss: 0.0521 - val_mean_absolute_error: 0.1701\n",
      "INFO:tensorflow:Assets written to: checkpoints\\model_at_35.mdl\\assets\n",
      "Epoch 36/200\n"
     ]
    },
    {
     "name": "stdout",
     "output_type": "stream",
     "text": [
      "70/70 [==============================] - 0s 1ms/step - loss: 0.0256 - mean_absolute_error: 0.1221 - val_loss: 0.1673 - val_mean_absolute_error: 0.3495\n",
      "INFO:tensorflow:Assets written to: checkpoints\\model_at_36.mdl\\assets\n",
      "Epoch 37/200\n",
      "70/70 [==============================] - 0s 1ms/step - loss: 0.0761 - mean_absolute_error: 0.2116 - val_loss: 0.0441 - val_mean_absolute_error: 0.1612\n",
      "INFO:tensorflow:Assets written to: checkpoints\\model_at_37.mdl\\assets\n",
      "Epoch 38/200\n",
      "70/70 [==============================] - 0s 1ms/step - loss: 0.0707 - mean_absolute_error: 0.2016 - val_loss: 0.0221 - val_mean_absolute_error: 0.1101\n",
      "INFO:tensorflow:Assets written to: checkpoints\\model_at_38.mdl\\assets\n",
      "Epoch 39/200\n",
      "70/70 [==============================] - 0s 1ms/step - loss: 0.0152 - mean_absolute_error: 0.0951 - val_loss: 0.0313 - val_mean_absolute_error: 0.1339\n",
      "INFO:tensorflow:Assets written to: checkpoints\\model_at_39.mdl\\assets\n",
      "Epoch 40/200\n",
      "70/70 [==============================] - 0s 1ms/step - loss: 0.0581 - mean_absolute_error: 0.1766 - val_loss: 0.0396 - val_mean_absolute_error: 0.1664\n",
      "INFO:tensorflow:Assets written to: checkpoints\\model_at_40.mdl\\assets\n",
      "Epoch 41/200\n",
      "70/70 [==============================] - 0s 2ms/step - loss: 0.0254 - mean_absolute_error: 0.1188 - val_loss: 0.0433 - val_mean_absolute_error: 0.1645\n",
      "INFO:tensorflow:Assets written to: checkpoints\\model_at_41.mdl\\assets\n",
      "Epoch 42/200\n",
      "70/70 [==============================] - 0s 1ms/step - loss: 0.0365 - mean_absolute_error: 0.1483 - val_loss: 0.0409 - val_mean_absolute_error: 0.1477\n",
      "INFO:tensorflow:Assets written to: checkpoints\\model_at_42.mdl\\assets\n",
      "Epoch 43/200\n",
      "70/70 [==============================] - 0s 1ms/step - loss: 0.0317 - mean_absolute_error: 0.1325 - val_loss: 0.0162 - val_mean_absolute_error: 0.0989\n",
      "INFO:tensorflow:Assets written to: checkpoints\\model_at_43.mdl\\assets\n",
      "Epoch 44/200\n",
      "70/70 [==============================] - 0s 1ms/step - loss: 0.0179 - mean_absolute_error: 0.1017 - val_loss: 0.0336 - val_mean_absolute_error: 0.1416\n",
      "INFO:tensorflow:Assets written to: checkpoints\\model_at_44.mdl\\assets\n",
      "Epoch 45/200\n",
      "70/70 [==============================] - 0s 1ms/step - loss: 0.0342 - mean_absolute_error: 0.1424 - val_loss: 0.0157 - val_mean_absolute_error: 0.0903\n",
      "INFO:tensorflow:Assets written to: checkpoints\\model_at_45.mdl\\assets\n",
      "Epoch 46/200\n",
      "70/70 [==============================] - 0s 1ms/step - loss: 0.0235 - mean_absolute_error: 0.1145 - val_loss: 0.0139 - val_mean_absolute_error: 0.0882\n",
      "INFO:tensorflow:Assets written to: checkpoints\\model_at_46.mdl\\assets\n",
      "Epoch 47/200\n",
      "70/70 [==============================] - 0s 2ms/step - loss: 0.0182 - mean_absolute_error: 0.1075 - val_loss: 0.0130 - val_mean_absolute_error: 0.0935\n",
      "INFO:tensorflow:Assets written to: checkpoints\\model_at_47.mdl\\assets\n",
      "Epoch 48/200\n",
      "70/70 [==============================] - 0s 2ms/step - loss: 0.0288 - mean_absolute_error: 0.1335 - val_loss: 0.0214 - val_mean_absolute_error: 0.1202\n",
      "INFO:tensorflow:Assets written to: checkpoints\\model_at_48.mdl\\assets\n",
      "Epoch 49/200\n",
      "70/70 [==============================] - 0s 1ms/step - loss: 0.0178 - mean_absolute_error: 0.1038 - val_loss: 0.0947 - val_mean_absolute_error: 0.2567\n",
      "INFO:tensorflow:Assets written to: checkpoints\\model_at_49.mdl\\assets\n",
      "Epoch 50/200\n",
      "70/70 [==============================] - 0s 1ms/step - loss: 0.0445 - mean_absolute_error: 0.1635 - val_loss: 0.0259 - val_mean_absolute_error: 0.1301\n",
      "INFO:tensorflow:Assets written to: checkpoints\\model_at_50.mdl\\assets\n",
      "Epoch 51/200\n",
      "70/70 [==============================] - 0s 1ms/step - loss: 0.0381 - mean_absolute_error: 0.1429 - val_loss: 0.0801 - val_mean_absolute_error: 0.2109\n",
      "INFO:tensorflow:Assets written to: checkpoints\\model_at_51.mdl\\assets\n",
      "Epoch 52/200\n",
      "70/70 [==============================] - 0s 1ms/step - loss: 0.1041 - mean_absolute_error: 0.2481 - val_loss: 0.0244 - val_mean_absolute_error: 0.1247\n",
      "INFO:tensorflow:Assets written to: checkpoints\\model_at_52.mdl\\assets\n",
      "Epoch 53/200\n",
      "70/70 [==============================] - 0s 1ms/step - loss: 0.0242 - mean_absolute_error: 0.1204 - val_loss: 0.0230 - val_mean_absolute_error: 0.1102\n",
      "INFO:tensorflow:Assets written to: checkpoints\\model_at_53.mdl\\assets\n",
      "Epoch 54/200\n",
      "70/70 [==============================] - 0s 1ms/step - loss: 0.0118 - mean_absolute_error: 0.0841 - val_loss: 0.0214 - val_mean_absolute_error: 0.1211\n",
      "INFO:tensorflow:Assets written to: checkpoints\\model_at_54.mdl\\assets\n",
      "Epoch 55/200\n",
      "70/70 [==============================] - 0s 1ms/step - loss: 0.0148 - mean_absolute_error: 0.0949 - val_loss: 0.0146 - val_mean_absolute_error: 0.0837\n",
      "INFO:tensorflow:Assets written to: checkpoints\\model_at_55.mdl\\assets\n",
      "Epoch 56/200\n",
      "70/70 [==============================] - 0s 1ms/step - loss: 0.0148 - mean_absolute_error: 0.0902 - val_loss: 0.0208 - val_mean_absolute_error: 0.1127\n",
      "INFO:tensorflow:Assets written to: checkpoints\\model_at_56.mdl\\assets\n",
      "Epoch 57/200\n",
      "70/70 [==============================] - 0s 1ms/step - loss: 0.0261 - mean_absolute_error: 0.1247 - val_loss: 0.0236 - val_mean_absolute_error: 0.1207\n",
      "INFO:tensorflow:Assets written to: checkpoints\\model_at_57.mdl\\assets\n",
      "Epoch 58/200\n",
      "70/70 [==============================] - 0s 1ms/step - loss: 0.0148 - mean_absolute_error: 0.0974 - val_loss: 0.0187 - val_mean_absolute_error: 0.1030\n",
      "INFO:tensorflow:Assets written to: checkpoints\\model_at_58.mdl\\assets\n",
      "Epoch 59/200\n",
      "70/70 [==============================] - 0s 1ms/step - loss: 0.0180 - mean_absolute_error: 0.1029 - val_loss: 0.0118 - val_mean_absolute_error: 0.0840\n",
      "INFO:tensorflow:Assets written to: checkpoints\\model_at_59.mdl\\assets\n",
      "Epoch 60/200\n",
      "70/70 [==============================] - 0s 1ms/step - loss: 0.0143 - mean_absolute_error: 0.0910 - val_loss: 0.0184 - val_mean_absolute_error: 0.1026\n",
      "INFO:tensorflow:Assets written to: checkpoints\\model_at_60.mdl\\assets\n",
      "Epoch 61/200\n",
      "70/70 [==============================] - 0s 1ms/step - loss: 0.0250 - mean_absolute_error: 0.1126 - val_loss: 0.0141 - val_mean_absolute_error: 0.0904\n",
      "INFO:tensorflow:Assets written to: checkpoints\\model_at_61.mdl\\assets\n",
      "Epoch 62/200\n",
      "70/70 [==============================] - 0s 1ms/step - loss: 0.0119 - mean_absolute_error: 0.0830 - val_loss: 0.0140 - val_mean_absolute_error: 0.0915\n",
      "INFO:tensorflow:Assets written to: checkpoints\\model_at_62.mdl\\assets\n",
      "Epoch 63/200\n",
      "70/70 [==============================] - 0s 2ms/step - loss: 0.0123 - mean_absolute_error: 0.0841 - val_loss: 0.0098 - val_mean_absolute_error: 0.0772\n",
      "INFO:tensorflow:Assets written to: checkpoints\\model_at_63.mdl\\assets\n",
      "Epoch 64/200\n",
      "70/70 [==============================] - 0s 1ms/step - loss: 0.0100 - mean_absolute_error: 0.0769 - val_loss: 0.0152 - val_mean_absolute_error: 0.0914\n",
      "INFO:tensorflow:Assets written to: checkpoints\\model_at_64.mdl\\assets\n",
      "Epoch 65/200\n",
      "70/70 [==============================] - 0s 1ms/step - loss: 0.0215 - mean_absolute_error: 0.1027 - val_loss: 0.0804 - val_mean_absolute_error: 0.2575\n",
      "INFO:tensorflow:Assets written to: checkpoints\\model_at_65.mdl\\assets\n",
      "Epoch 66/200\n",
      "70/70 [==============================] - 0s 1ms/step - loss: 0.0389 - mean_absolute_error: 0.1502 - val_loss: 0.0277 - val_mean_absolute_error: 0.1285\n",
      "INFO:tensorflow:Assets written to: checkpoints\\model_at_66.mdl\\assets\n",
      "Epoch 67/200\n",
      "70/70 [==============================] - 0s 1ms/step - loss: 0.0149 - mean_absolute_error: 0.0934 - val_loss: 0.0108 - val_mean_absolute_error: 0.0801\n",
      "INFO:tensorflow:Assets written to: checkpoints\\model_at_67.mdl\\assets\n",
      "Epoch 68/200\n",
      "70/70 [==============================] - 0s 1ms/step - loss: 0.0363 - mean_absolute_error: 0.1440 - val_loss: 0.0160 - val_mean_absolute_error: 0.0983\n",
      "INFO:tensorflow:Assets written to: checkpoints\\model_at_68.mdl\\assets\n",
      "Epoch 69/200\n",
      "70/70 [==============================] - 0s 1ms/step - loss: 0.0560 - mean_absolute_error: 0.1701 - val_loss: 0.0176 - val_mean_absolute_error: 0.1070\n",
      "INFO:tensorflow:Assets written to: checkpoints\\model_at_69.mdl\\assets\n",
      "Epoch 70/200\n",
      "70/70 [==============================] - 0s 1ms/step - loss: 0.0336 - mean_absolute_error: 0.1295 - val_loss: 0.1160 - val_mean_absolute_error: 0.2974\n",
      "INFO:tensorflow:Assets written to: checkpoints\\model_at_70.mdl\\assets\n",
      "Epoch 71/200\n"
     ]
    },
    {
     "name": "stdout",
     "output_type": "stream",
     "text": [
      "70/70 [==============================] - 0s 2ms/step - loss: 0.1033 - mean_absolute_error: 0.2390 - val_loss: 0.0624 - val_mean_absolute_error: 0.2179\n",
      "INFO:tensorflow:Assets written to: checkpoints\\model_at_71.mdl\\assets\n",
      "Epoch 72/200\n",
      "70/70 [==============================] - 0s 1ms/step - loss: 0.0633 - mean_absolute_error: 0.1971 - val_loss: 0.0652 - val_mean_absolute_error: 0.2019\n",
      "INFO:tensorflow:Assets written to: checkpoints\\model_at_72.mdl\\assets\n",
      "Epoch 73/200\n",
      "70/70 [==============================] - 0s 1ms/step - loss: 0.0287 - mean_absolute_error: 0.1311 - val_loss: 0.0208 - val_mean_absolute_error: 0.1155\n",
      "INFO:tensorflow:Assets written to: checkpoints\\model_at_73.mdl\\assets\n",
      "Epoch 74/200\n",
      "70/70 [==============================] - 0s 1ms/step - loss: 0.0383 - mean_absolute_error: 0.1501 - val_loss: 0.0215 - val_mean_absolute_error: 0.1103\n",
      "INFO:tensorflow:Assets written to: checkpoints\\model_at_74.mdl\\assets\n",
      "Epoch 75/200\n",
      "70/70 [==============================] - 0s 1ms/step - loss: 0.0097 - mean_absolute_error: 0.0763 - val_loss: 0.0143 - val_mean_absolute_error: 0.0906\n",
      "INFO:tensorflow:Assets written to: checkpoints\\model_at_75.mdl\\assets\n",
      "Epoch 76/200\n",
      "70/70 [==============================] - 0s 1ms/step - loss: 0.0103 - mean_absolute_error: 0.0820 - val_loss: 0.0100 - val_mean_absolute_error: 0.0790\n",
      "INFO:tensorflow:Assets written to: checkpoints\\model_at_76.mdl\\assets\n",
      "Epoch 77/200\n",
      "70/70 [==============================] - 0s 1ms/step - loss: 0.0171 - mean_absolute_error: 0.0941 - val_loss: 0.0333 - val_mean_absolute_error: 0.1524\n",
      "INFO:tensorflow:Assets written to: checkpoints\\model_at_77.mdl\\assets\n",
      "Epoch 78/200\n",
      "70/70 [==============================] - 0s 1ms/step - loss: 0.0212 - mean_absolute_error: 0.1109 - val_loss: 0.0135 - val_mean_absolute_error: 0.0830\n",
      "INFO:tensorflow:Assets written to: checkpoints\\model_at_78.mdl\\assets\n",
      "Epoch 79/200\n",
      "70/70 [==============================] - 0s 1ms/step - loss: 0.0143 - mean_absolute_error: 0.0922 - val_loss: 0.0134 - val_mean_absolute_error: 0.0847\n",
      "INFO:tensorflow:Assets written to: checkpoints\\model_at_79.mdl\\assets\n",
      "Epoch 80/200\n",
      "70/70 [==============================] - 0s 1ms/step - loss: 0.0109 - mean_absolute_error: 0.0826 - val_loss: 0.0109 - val_mean_absolute_error: 0.0824\n",
      "INFO:tensorflow:Assets written to: checkpoints\\model_at_80.mdl\\assets\n",
      "Epoch 81/200\n",
      "70/70 [==============================] - 0s 1ms/step - loss: 0.0090 - mean_absolute_error: 0.0734 - val_loss: 0.0140 - val_mean_absolute_error: 0.0908\n",
      "INFO:tensorflow:Assets written to: checkpoints\\model_at_81.mdl\\assets\n",
      "Epoch 82/200\n",
      "70/70 [==============================] - 0s 1ms/step - loss: 0.0140 - mean_absolute_error: 0.0915 - val_loss: 0.0167 - val_mean_absolute_error: 0.0930\n",
      "INFO:tensorflow:Assets written to: checkpoints\\model_at_82.mdl\\assets\n",
      "Epoch 83/200\n",
      "70/70 [==============================] - 0s 1ms/step - loss: 0.0616 - mean_absolute_error: 0.1727 - val_loss: 0.0926 - val_mean_absolute_error: 0.2223\n",
      "INFO:tensorflow:Assets written to: checkpoints\\model_at_83.mdl\\assets\n",
      "Epoch 84/200\n",
      "70/70 [==============================] - 0s 1ms/step - loss: 0.0367 - mean_absolute_error: 0.1392 - val_loss: 0.0134 - val_mean_absolute_error: 0.0825\n",
      "INFO:tensorflow:Assets written to: checkpoints\\model_at_84.mdl\\assets\n",
      "Epoch 85/200\n",
      "70/70 [==============================] - 0s 1ms/step - loss: 0.0192 - mean_absolute_error: 0.1020 - val_loss: 0.0631 - val_mean_absolute_error: 0.2015\n",
      "INFO:tensorflow:Assets written to: checkpoints\\model_at_85.mdl\\assets\n",
      "Epoch 86/200\n",
      "70/70 [==============================] - 0s 1ms/step - loss: 0.0391 - mean_absolute_error: 0.1462 - val_loss: 0.0151 - val_mean_absolute_error: 0.0883\n",
      "INFO:tensorflow:Assets written to: checkpoints\\model_at_86.mdl\\assets\n",
      "Epoch 87/200\n",
      "70/70 [==============================] - 0s 2ms/step - loss: 0.0215 - mean_absolute_error: 0.1063 - val_loss: 0.0223 - val_mean_absolute_error: 0.1216\n",
      "INFO:tensorflow:Assets written to: checkpoints\\model_at_87.mdl\\assets\n",
      "Epoch 88/200\n",
      "70/70 [==============================] - 0s 1ms/step - loss: 0.0151 - mean_absolute_error: 0.0933 - val_loss: 0.0102 - val_mean_absolute_error: 0.0684\n",
      "INFO:tensorflow:Assets written to: checkpoints\\model_at_88.mdl\\assets\n"
     ]
    }
   ],
   "source": [
    "training_history=model.fit(train_X, train_y, batch_size=10, epochs=200,\n",
    "                          validation_split=0.125, callbacks=[early_stop, model_checkpoint])"
   ]
  },
  {
   "cell_type": "markdown",
   "metadata": {},
   "source": [
    "### Minimum Training and Validation Values"
   ]
  },
  {
   "cell_type": "code",
   "execution_count": 14,
   "metadata": {},
   "outputs": [
    {
     "name": "stdout",
     "output_type": "stream",
     "text": [
      "===Training Minimum Values===\n",
      "Minimum Loss: 0.008741587400436401 ; at epoch = 74\n",
      "Minimum MAE: 0.07288923859596252 ; at epoch = 74\n",
      "===Validation Minimum Values===\n",
      "Minimum Loss: 0.009832071140408516 ; at epoch = 62\n",
      "Minimum MAE: 0.06843221932649612 ; at epoch = 87\n"
     ]
    }
   ],
   "source": [
    "print('===Training Minimum Values===')\n",
    "#finding the minimum loss\n",
    "loss = training_history.history[('loss')]\n",
    "print('Minimum Loss:',min(loss),'; at epoch =',loss.index(min(loss)))\n",
    "\n",
    "#finding the minimum MAE\n",
    "mae = training_history.history[('mean_absolute_error')]\n",
    "print('Minimum MAE:',min(mae),'; at epoch =',mae.index(min(mae)))\n",
    "\n",
    "print('===Validation Minimum Values===')\n",
    "#finding the minimum loss\n",
    "loss = training_history.history[('val_loss')]\n",
    "print('Minimum Loss:',min(loss),'; at epoch =',loss.index(min(loss)))\n",
    "\n",
    "#finding the minimum MAE\n",
    "mae = training_history.history[('val_mean_absolute_error')]\n",
    "print('Minimum MAE:',min(mae),'; at epoch =',mae.index(min(mae)))"
   ]
  },
  {
   "cell_type": "markdown",
   "metadata": {},
   "source": [
    "### Visualize the loss values"
   ]
  },
  {
   "cell_type": "code",
   "execution_count": 15,
   "metadata": {},
   "outputs": [
    {
     "data": {
      "image/png": "[encoded data removed]",
      "text/plain": [
       "<Figure size 1440x360 with 1 Axes>"
      ]
     },
     "metadata": {},
     "output_type": "display_data"
    }
   ],
   "source": [
    "plt.figure(figsize=(20,5))\n",
    "plt.plot(training_history.history[('loss')])\n",
    "plt.plot(training_history.history[('val_loss')])\n",
    "plt.legend(['training', 'validation'])\n",
    "plt.xlabel(\"epochs\")\n",
    "plt.ylabel(\"loss\")\n",
    "plt.title(\"Training and validation losses\")\n",
    "plt.show()"
   ]
  },
  {
   "cell_type": "markdown",
   "metadata": {},
   "source": [
    "### Visualize the MAE values"
   ]
  },
  {
   "cell_type": "code",
   "execution_count": 16,
   "metadata": {
    "scrolled": false
   },
   "outputs": [
    {
     "data": {
      "image/png": "[encoded data removed]",
      "text/plain": [
       "<Figure size 1440x360 with 1 Axes>"
      ]
     },
     "metadata": {},
     "output_type": "display_data"
    }
   ],
   "source": [
    "plt.figure(figsize=(20,5))\n",
    "plt.plot(training_history.history[('mean_absolute_error')][:])\n",
    "plt.plot(training_history.history[('val_mean_absolute_error')][:])\n",
    "plt.legend(['training', 'validation'])\n",
    "plt.xlabel(\"epochs\")\n",
    "plt.ylabel(\"MAE\")\n",
    "plt.title(\"Training and validation MAE\")\n",
    "plt.show()"
   ]
  },
  {
   "cell_type": "markdown",
   "metadata": {},
   "source": [
    "### Prediction and Testing of Trained model"
   ]
  },
  {
   "cell_type": "code",
   "execution_count": 17,
   "metadata": {},
   "outputs": [],
   "source": [
    "test_y_pred = model.predict(test_X)"
   ]
  },
  {
   "cell_type": "code",
   "execution_count": 18,
   "metadata": {},
   "outputs": [
    {
     "name": "stdout",
     "output_type": "stream",
     "text": [
      "7/7 [==============================] - 0s 1ms/step - loss: 0.0092 - mean_absolute_error: 0.0763\n"
     ]
    },
    {
     "data": {
      "text/plain": [
       "[0.009233754128217697, 0.07627218961715698]"
      ]
     },
     "execution_count": 18,
     "metadata": {},
     "output_type": "execute_result"
    }
   ],
   "source": [
    "model.evaluate(test_X, test_y)"
   ]
  },
  {
   "cell_type": "code",
   "execution_count": 19,
   "metadata": {},
   "outputs": [
    {
     "data": {
      "image/png": "[encoded data removed]",
      "text/plain": [
       "<Figure size 720x360 with 1 Axes>"
      ]
     },
     "metadata": {},
     "output_type": "display_data"
    }
   ],
   "source": [
    "plt.figure(figsize=(10,5))\n",
    "plt.scatter(list(range(len(test_y_pred))),test_y_pred)\n",
    "plt.scatter(list(range(len(test_y))),test_y)\n",
    "plt.legend(['prediction', 'test'])\n",
    "plt.xlabel(\"item\")\n",
    "plt.ylabel(\"y values\")\n",
    "plt.title(\"Test and prediction values\")\n",
    "plt.show()"
   ]
  }
 ],
 "metadata": {
  "kernelspec": {
   "display_name": "CPE215",
   "language": "python",
   "name": "cpe215"
  },
  "language_info": {
   "codemirror_mode": {
    "name": "ipython",
    "version": 3
   },
   "file_extension": ".py",
   "mimetype": "text/x-python",
   "name": "python",
   "nbconvert_exporter": "python",
   "pygments_lexer": "ipython3",
   "version": "3.6.5"
  }
 },
 "nbformat": 4,
 "nbformat_minor": 4
}
